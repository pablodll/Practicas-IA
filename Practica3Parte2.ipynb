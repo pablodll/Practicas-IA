{
 "cells": [
  {
   "cell_type": "markdown",
   "metadata": {},
   "source": [
    "## Practica 3 (Parte 2)\n",
    "#### Alberto García Doménech - Pablo Daurell Marina"
   ]
  },
  {
   "cell_type": "markdown",
   "metadata": {},
   "source": [
    "**Ti** = trabajador i   \n",
    "**tj** = tarea j   \n",
    "**dij** = Tiempo que tarda Ti en realizar tj   \n",
    "\n",
    "|        |  t1  |  t2  |  t3  |\n",
    "|--------|------|------|------|\n",
    "| **T1** | d11  | d12  | d13  |\n",
    "| **T2** | d21  | d22  | d23  |\n",
    "\n",
    "- Cada fila representa un trabajador\n",
    "- Cada columna representa una tarea\n",
    "    - Suponemos que las tareas aparecen ya ordenadas siguiendo una restriccón temporal (t1 debe realizarse antes que t2)"
   ]
  },
  {
   "cell_type": "code",
   "execution_count": null,
   "metadata": {},
   "outputs": [],
   "source": [
    "# Ej ({T1,T2}, {t1, t2, t3})\n",
    "# costs = [[1,3,2],\n",
    "#          [2,1,2]]\n",
    "def deco(cromosoma, n_tareas, n_trabajadores, tiempos):\n",
    "    for i in range(n_tareas):\n",
    "        for j in range(n_trabajadores):\n",
    "            "
   ]
  }
 ],
 "metadata": {
  "file_extension": ".py",
  "kernelspec": {
   "display_name": "Python 3",
   "language": "python",
   "name": "python3"
  },
  "language_info": {
   "codemirror_mode": {
    "name": "ipython",
    "version": 3
   },
   "file_extension": ".py",
   "mimetype": "text/x-python",
   "name": "python",
   "nbconvert_exporter": "python",
   "pygments_lexer": "ipython3",
   "version": "3.7.3"
  },
  "mimetype": "text/x-python",
  "name": "python",
  "npconvert_exporter": "python",
  "pygments_lexer": "ipython3",
  "version": 3
 },
 "nbformat": 4,
 "nbformat_minor": 4
}

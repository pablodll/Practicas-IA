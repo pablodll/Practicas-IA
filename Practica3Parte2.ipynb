{
 "cells": [
  {
   "cell_type": "markdown",
   "metadata": {},
   "source": [
    "## Practica 3 (Parte 2)\n",
    "#### Alberto García Doménech - Pablo Daurell Marina"
   ]
  },
  {
   "cell_type": "markdown",
   "metadata": {},
   "source": [
    "**Ti** = trabajador i   \n",
    "**tj** = tarea j   \n",
    "**dij** = Tiempo que tarda Ti en realizar tj   \n",
    "\n",
    "|        |  t1  |  t2  |  t3  |\n",
    "|--------|------|------|------|\n",
    "| **T1** | d11  | d12  | d13  |\n",
    "| **T2** | d21  | d22  | d23  |\n",
    "\n",
    "- Cada fila representa un trabajador\n",
    "- Cada columna representa una tarea\n",
    "    - Suponemos que las tareas aparecen ya ordenadas siguiendo una restriccón temporal (t1 debe realizarse antes que t2)\n",
    "    \n",
    "    \n",
    "- Resolveremos este problema usando un algoritmo genético (basándonos en el problema de la mochila)\n",
    "- La solución consistirá de una matriz, como la mostrada arriba, con valores binarios \n",
    "    > Si la casilla dij es 1 => el trabajador i realiza la tarea j   \n",
    "    > Si la casilla dij es 0 => El trabajador i no realiza la tarea j"
   ]
  },
  {
   "cell_type": "code",
   "execution_count": 93,
   "metadata": {},
   "outputs": [],
   "source": [
    "import random"
   ]
  },
  {
   "cell_type": "markdown",
   "metadata": {},
   "source": [
    "Definimos la clase para nuestro problema genético pasando como parámetros:\n",
    "- Los genes utilizados (0s y 1s)\n",
    "- La función de decodificado\n",
    "- La función de mutación\n",
    "- La función de cruzado\n",
    "- La función de fitness\n",
    "- El número de tareas (len_col)\n",
    "- El número de trabajadores (len_row)"
   ]
  },
  {
   "cell_type": "code",
   "execution_count": 94,
   "metadata": {},
   "outputs": [],
   "source": [
    "class ProblemaGenetico(object):\n",
    "        def __init__(self, genes,fun_dec,fun_muta , fun_cruza, fun_fitness, len_col, len_row):\n",
    "            self.genes = genes\n",
    "            self.fun_dec = fun_dec\n",
    "            self.fun_cruza = fun_cruza\n",
    "            self.fun_muta = fun_muta\n",
    "            self.fun_fitness = fun_fitness\n",
    "            self.len_row = len_row\n",
    "            self.len_col = len_col\n",
    "            \"\"\"Constructor de la clase\"\"\"\n",
    "                \n",
    "        def decodifica(self, genotipo):\n",
    "            \"\"\"Devuelve el fenotipo a partir del genotipo\"\"\"\n",
    "            fenotipo = self.fun_dec(genotipo, self.len_col, self.len_row)\n",
    "            return fenotipo\n",
    "        def muta(self, cromosoma,prob):\n",
    "            \"\"\"Devuelve el cromosoma mutado\"\"\"   \n",
    "            mutante = self.fun_muta(cromosoma,prob,self.len_col,self.len_row)\n",
    "            return mutante\n",
    "        def cruza(self, cromosoma1, cromosoma2):         \n",
    "            \"\"\"Devuelve el cruce de un par de cromosomas\"\"\"\n",
    "            cruce = self.fun_cruza(cromosoma1,cromosoma2, self.len_col, self.len_row)\n",
    "            return cruce \n",
    "        def fitness(self, cromosoma):    \n",
    "            \"\"\"Función de valoración\"\"\"\n",
    "            valoracion = self.fun_fitness(cromosoma, self.len_col, self.len_row)\n",
    "            return valoracion"
   ]
  },
  {
   "cell_type": "code",
   "execution_count": 95,
   "metadata": {},
   "outputs": [],
   "source": [
    "# Ej ({T1,T2}, {t1, t2, t3})\n",
    "# costs = [[1,3,2],\n",
    "#          [2,1,2]]\n",
    "\n",
    "inicial = [[1,1,0],\n",
    "           [1,0,1]]\n",
    "tiempos = [[3,5,1],\n",
    "           [2,8,1]]\n",
    "n_tareas = 3\n",
    "n_trabajadores = 2"
   ]
  },
  {
   "cell_type": "markdown",
   "metadata": {},
   "source": [
    "### Decodificación\n",
    "La funcion de decodificado recorre un cromosoma y lo convierte en una solución valida para nuestro problema.   \n",
    "Tiene en cuenta que haya exactamente un 1 en cada columna (una tarea solo puede hacerla una persona) y si no hay ninguno añade un en una posición aleatoria de la columna."
   ]
  },
  {
   "cell_type": "code",
   "execution_count": 96,
   "metadata": {},
   "outputs": [],
   "source": [
    "def deco(cromosoma, n_tareas, n_trabajadores):\n",
    "    l = cromosoma\n",
    "    for i in range(n_tareas):\n",
    "        for j in range(n_trabajadores):\n",
    "            if cromosoma[j][i] == 1:\n",
    "                for k in range(j+1, n_trabajadores):\n",
    "                    l[k][i] = 0\n",
    "                break\n",
    "            elif j == n_trabajadores - 1:\n",
    "                l[random.randrange(0, n_trabajadores,1)][i] = 1\n",
    "    return l"
   ]
  },
  {
   "cell_type": "code",
   "execution_count": 97,
   "metadata": {},
   "outputs": [
    {
     "data": {
      "text/plain": [
       "[[1, 1, 0], [0, 0, 1]]"
      ]
     },
     "execution_count": 97,
     "metadata": {},
     "output_type": "execute_result"
    }
   ],
   "source": [
    "deco(inicial, n_tareas, n_trabajadores)"
   ]
  },
  {
   "cell_type": "markdown",
   "metadata": {},
   "source": [
    "### Fitness\n",
    "La función de fitness recibe los tiempos que tarda cada trabajador en hacer cada tarea.  \n",
    "Va acumulando el tiempo total que se tardaría en completar nuestra solución, sumando el tiempo que tarda cada tarea en ser completada por el trabajador asignado."
   ]
  },
  {
   "cell_type": "code",
   "execution_count": 98,
   "metadata": {},
   "outputs": [],
   "source": [
    "def fitness(cromosoma, n_tareas, n_trabajadores, tiempos):\n",
    "    tiempo_total = 0\n",
    "    cromosoma = deco(cromosoma, n_tareas, n_trabajadores)\n",
    "    for i in range(n_tareas):\n",
    "        for j in range(n_trabajadores):\n",
    "            if cromosoma[j][i] == 1:\n",
    "                tiempo_total += tiempos[j][i]\n",
    "    return tiempo_total"
   ]
  },
  {
   "cell_type": "code",
   "execution_count": 99,
   "metadata": {},
   "outputs": [
    {
     "data": {
      "text/plain": [
       "9"
      ]
     },
     "execution_count": 99,
     "metadata": {},
     "output_type": "execute_result"
    }
   ],
   "source": [
    "fitness(inicial, n_tareas, n_trabajadores, tiempos)"
   ]
  },
  {
   "cell_type": "markdown",
   "metadata": {},
   "source": [
    "### Cruzado y mutado\n",
    "La función de cruce usa cruce de un punto (junta la primera mitad del cromosoma1 con la segunda mitad del cromosoma2 y viceversa).   \n",
    "La función de mutación elige un gen al azar del cromosoma y si la probabilidad es mayor que un número al azar altera el valor de ese gen."
   ]
  },
  {
   "cell_type": "code",
   "execution_count": 100,
   "metadata": {},
   "outputs": [],
   "source": [
    "def fun_cruzar(cromosoma1, cromosoma2, n_tareas, n_trabajadores):\n",
    "    \"\"\"Cruza los cromosomas por la mitad\"\"\"\n",
    "    cruce1 = cromosoma1[0:n_trabajadores//2][0:n_tareas]+cromosoma2[n_trabajadores//2:n_trabajadores][0:n_tareas]\n",
    "    cruce2 = cromosoma2[0:n_trabajadores//2][0:n_tareas]+cromosoma1[n_trabajadores//2:n_trabajadores][0:n_tareas]\n",
    "    return [cruce1,cruce2]\n",
    "    \n",
    "def fun_mutar(cromosoma,prob, n_tareas, n_trabajadores):\n",
    "    \"\"\"Elige un elemento al azar del cromosoma y lo modifica con una probabilidad igual a prob\"\"\"\n",
    "    p = random.randint(0, n_trabajadores-1)\n",
    "    q = random.randint(0,n_tareas-1)\n",
    "    if prob > random.uniform(0,1):\n",
    "        cromosoma[p][q] =  (cromosoma[p][q]+1)%2\n",
    "    return cromosoma\n",
    "\n",
    "problema = ProblemaGenetico([0,1], deco, fun_mutar, fun_cruzar, fitness, n_tareas,n_trabajadores)"
   ]
  },
  {
   "cell_type": "markdown",
   "metadata": {},
   "source": [
    "### Población inicial\n",
    "Generamos aleatoriamente una lista de matrices (que representan a cada individuo) representando así una población inicial."
   ]
  },
  {
   "cell_type": "code",
   "execution_count": 101,
   "metadata": {},
   "outputs": [],
   "source": [
    "def poblacion_inicial(problema_genetico, size):\n",
    "    l = []\n",
    "    for k in range(size):\n",
    "        row = []\n",
    "        for i in range(problema_genetico.len_row):\n",
    "            col = []\n",
    "            for j in range(problema_genetico.len_col):\n",
    "                col.append(random.choice(problema_genetico.genes))\n",
    "            row.append(col)\n",
    "        l.append(row)\n",
    "    return l"
   ]
  },
  {
   "cell_type": "markdown",
   "metadata": {},
   "source": [
    "- Creamos funciones para cruzar y mutar todos los individuos de una población"
   ]
  },
  {
   "cell_type": "code",
   "execution_count": 102,
   "metadata": {},
   "outputs": [],
   "source": [
    "def cruza_padres(problema_genetico, padres):\n",
    "    l = []\n",
    "    for i in range(len(padres)-1):\n",
    "        x = problema_genetico.cruza(padres[i], padres[i+1])\n",
    "        l.append(x[0])\n",
    "        l.append(x[1])\n",
    "    return l"
   ]
  },
  {
   "cell_type": "code",
   "execution_count": 103,
   "metadata": {},
   "outputs": [],
   "source": [
    "def muta_individuos(problema_genetico, poblacion, prob):\n",
    "    l = []\n",
    "    for x in poblacion:\n",
    "        l.append(problema_genetico.muta(x, prob))\n",
    "    return l"
   ]
  },
  {
   "cell_type": "markdown",
   "metadata": {},
   "source": [
    "Utilizamos las funciones de selección por torneo, nueva generación y el algoritmo genético creados en la parte uno de la práctica (para resolver el problema de la mochila) sin modificarlos ya que sirven para nuestra implementación."
   ]
  },
  {
   "cell_type": "code",
   "execution_count": 104,
   "metadata": {},
   "outputs": [],
   "source": [
    "def seleccion_por_torneo(problema_genetico, poblacion, n, k, opt):\n",
    "    \"\"\"Selección por torneo de n individuos de una población. Siendo k el nº de participantes\n",
    "        y opt la función max o min.\"\"\"\n",
    "    seleccionados = []\n",
    "    for i in range(n):\n",
    "        participantes = random.sample(poblacion,k)\n",
    "        seleccionado = opt(participantes, key=problema_genetico.fitness)\n",
    "        opt(poblacion, key=problema_genetico.fitness)\n",
    "        seleccionados.append(seleccionado)\n",
    "        # poblacion.remove(seleccionado)\n",
    "    return seleccionados  "
   ]
  },
  {
   "cell_type": "code",
   "execution_count": 105,
   "metadata": {},
   "outputs": [],
   "source": [
    "def algoritmo_genetico(problema_genetico,k,opt,ngen,size,prop_cruces,prob_mutar):\n",
    "    poblacion= poblacion_inicial(problema_genetico,size)\n",
    "    n_padres=round(size*prop_cruces)\n",
    "    n_padres= int (n_padres if n_padres%2==0 else n_padres-1)\n",
    "    n_directos = size-n_padres\n",
    "    for _ in range(ngen):\n",
    "        poblacion= nueva_generacion(problema_genetico,k,opt,poblacion,n_padres, n_directos,prob_mutar)\n",
    "\n",
    "    mejor_cr= opt(poblacion, key=problema_genetico.fitness)\n",
    "    mejor=problema_genetico.decodifica(mejor_cr)\n",
    "    return (mejor,problema_genetico.fitness(mejor_cr)) "
   ]
  },
  {
   "cell_type": "code",
   "execution_count": 106,
   "metadata": {},
   "outputs": [],
   "source": [
    "def nueva_generacion(problema_genetico, k,opt, poblacion, n_padres, n_directos, prob_mutar):\n",
    "    padres2 = seleccion_por_torneo(problema_genetico, poblacion, n_directos, k,opt) \n",
    "    padres1 = seleccion_por_torneo(problema_genetico, poblacion, n_padres , k, opt)\n",
    "    cruces =  cruza_padres(problema_genetico,padres1)\n",
    "    generacion = padres2+cruces\n",
    "    resultado_mutaciones = muta_individuos(problema_genetico, generacion, prob_mutar)\n",
    "    return resultado_mutaciones"
   ]
  },
  {
   "cell_type": "markdown",
   "metadata": {},
   "source": [
    "### Resolución\n",
    "Creamos un ejemplo de nuestro problema, definimos la función de fitness concreta para este caso y resolvemos el problema mediante el algoritmo genético."
   ]
  },
  {
   "cell_type": "code",
   "execution_count": 107,
   "metadata": {},
   "outputs": [],
   "source": [
    "inicial = [[1,1,0],\n",
    "           [1,0,1]]\n",
    "tiempos = [[3,5,1],\n",
    "           [2,8,1]]\n",
    "n_tareas = 3\n",
    "n_trabajadores = 2\n",
    "\n",
    "def fitness_tareas_1(cromosoma, n_tareas, n_trabajadores):\n",
    "    v = fitness(cromosoma, n_tareas, n_trabajadores, tiempos)\n",
    "    return v\n",
    "\n",
    "problema1 = ProblemaGenetico([0,1],deco,fun_mutar,fun_cruzar,fitness_tareas_1,n_tareas,n_trabajadores)"
   ]
  },
  {
   "cell_type": "code",
   "execution_count": 114,
   "metadata": {},
   "outputs": [
    {
     "data": {
      "text/plain": [
       "([[0, 1, 1], [1, 0, 0]], 8)"
      ]
     },
     "execution_count": 114,
     "metadata": {},
     "output_type": "execute_result"
    }
   ],
   "source": [
    "algoritmo_genetico(problema1,5,min,100,10,0.8,0.05)"
   ]
  },
  {
   "cell_type": "code",
   "execution_count": 115,
   "metadata": {},
   "outputs": [
    {
     "data": {
      "text/plain": [
       "([[1, 1, 1], [0, 0, 0]], 9)"
      ]
     },
     "execution_count": 115,
     "metadata": {},
     "output_type": "execute_result"
    }
   ],
   "source": [
    "algoritmo_genetico(problema1,5,min,100,10,0.8,0.05)"
   ]
  },
  {
   "cell_type": "markdown",
   "metadata": {},
   "source": [
    "Vemos que se siempre obtiene una solución válida, pero no siempre podemos garantizar que se consiga la más óptima (8).   \n",
    "Esto se debe a que en la búsqueda local podemos quedarnos atascados en óptimos locales."
   ]
  }
 ],
 "metadata": {
  "file_extension": ".py",
  "kernelspec": {
   "display_name": "Python 3",
   "language": "python",
   "name": "python3"
  },
  "language_info": {
   "codemirror_mode": {
    "name": "ipython",
    "version": 3
   },
   "file_extension": ".py",
   "mimetype": "text/x-python",
   "name": "python",
   "nbconvert_exporter": "python",
   "pygments_lexer": "ipython3",
   "version": "3.7.3"
  },
  "mimetype": "text/x-python",
  "name": "python",
  "npconvert_exporter": "python",
  "pygments_lexer": "ipython3",
  "version": 3
 },
 "nbformat": 4,
 "nbformat_minor": 4
}

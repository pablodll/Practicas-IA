{
 "cells": [
  {
   "cell_type": "markdown",
   "metadata": {},
   "source": [
    "# Practica 2B (Ascensores)\n",
    "##### Alberto García Doménech - Pablo Daurell Marina (Grupo 03)"
   ]
  },
  {
   "cell_type": "code",
   "execution_count": 1,
   "metadata": {},
   "outputs": [],
   "source": [
    "# Restriccion: Una persona por ascensor\n",
    "# El último ascensor siempre es rápido (se  mueve por plantas pares)\n",
    "# estado_ini = ( (personas), (ascensores) )\n",
    "estado_ini = (\n",
    "    (2,4,2,8,1), (2,0,1)\n",
    ")\n",
    "\n",
    "# estado_goal = (personas)\n",
    "estado_goal = (3,11,12,1,9)\n",
    "\n",
    "# Acciones\n",
    "# Llamar ascensor persona (mueve un ascensor vacio a una planta)\n",
    "# Subir ascensor persona (sube una persona dentro de un ascensor una planta) (comprobar si ascensor y persona estan en misma planta)\n",
    "# Bajar ascensor persona (baja una persona dentro de un ascensor una planta) (comprobar si ascensor y persona estan en misma planta)"
   ]
  },
  {
   "cell_type": "code",
   "execution_count": 2,
   "metadata": {},
   "outputs": [],
   "source": [
    "from search import *\n",
    "\n",
    "class Ascensores(Problem):\n",
    "    \n",
    "    def __init__(self, initial, goal):\n",
    "        self.goal = goal\n",
    "        Problem.__init__(self, initial, goal)\n",
    "\n",
    "    def actions(self, estado):\n",
    "        personas = list(estado[0])\n",
    "        ascensores = list(estado[1])\n",
    "        accs = list()\n",
    "        for i, persona in enumerate(personas):\n",
    "            for j, ascensor in enumerate(ascensores):\n",
    "                if j == len(ascensores)-1: # ASCENSOR RAPIDO\n",
    "                    if persona != ascensor and persona%2 == 0:\n",
    "                        accs.append((\"LlamarRapido\", i, j)) # Persona i (en planta par) llama a ascensor rapido\n",
    "                    if persona == ascensor and int(persona) >0:\n",
    "                        accs.append((\"BajarRapido\" , i, j)) # Bajar persona i en asccensor rapido (j)\n",
    "                    if persona == ascensor and int(persona) < 12:\n",
    "                        accs.append((\"SubirRapido\", i, j)) # Subir persona i en ascensor rapido (j)\n",
    "                else: # ASCENSOR NORMAL\n",
    "                    if persona != ascensor:\n",
    "                        accs.append((\"Llamar\", i, j))            # Persona i llama a asccensor j\n",
    "                    if persona == ascensor and int(persona) > 0:\n",
    "                        accs.append((\"Bajar\", i, j))             # Bajar persona i en ascensor j\n",
    "                    if persona == ascensor and int(persona) < 12:\n",
    "                        accs.append((\"Subir\", i, j))             # Subir persona i en ascensor j\n",
    "            \n",
    "        return accs\n",
    "    \n",
    "    def result(self, estado, accion):\n",
    "        personas = list(estado[0])\n",
    "        ascensores = list(estado[1])\n",
    "        p = accion[1]\n",
    "        a = accion[2]\n",
    "        if accion[0] == \"Llamar\" or accion[0] == \"LlamarRapido\":\n",
    "            ascensores[a] = int(personas[p])\n",
    "        elif accion[0] == \"Bajar\":\n",
    "            ascensores[a] -= 1\n",
    "            personas[p] -= 1\n",
    "        elif accion[0] == \"Subir\":\n",
    "            ascensores[a] += 1\n",
    "            personas[p] += 1\n",
    "        elif accion[0] == \"BajarRapido\":\n",
    "            ascensores[a] -= 2\n",
    "            personas[p] -= 2\n",
    "        elif accion[0] == \"SubirRapido\":\n",
    "            ascensores[a] += 2\n",
    "            personas[p] += 2\n",
    "        return (tuple(personas), tuple(ascensores))\n",
    "    \n",
    "    def goal_test(self, estado):\n",
    "        return estado[0] == self.goal\n",
    "    \n",
    "    def coste_de_aplicar_accion(self, estado, accion):\n",
    "        personas = list(estado[0])\n",
    "        ascensores = list(estado[1])\n",
    "        p = accion[1]\n",
    "        a = accion[2]\n",
    "        if accion[0] == \"Llamar\":\n",
    "            coste = abs(personas[p] - ascensores[a])\n",
    "        elif accion[0] == \"Bajar\":\n",
    "            coste = 1\n",
    "        elif accion[0] == \"Subir\":\n",
    "            coste = 1\n",
    "        elif accion[0] == \"LlamarRapido\":\n",
    "            coste = abs(personas[p] - ascensores[a])/2\n",
    "        elif accion[0] == \"BajarRapido\":\n",
    "            coste = 1\n",
    "        elif accion[0] == \"SubirRapido\":\n",
    "            coste = 1\n",
    "        return coste\n"
   ]
  },
  {
   "cell_type": "code",
   "execution_count": 3,
   "metadata": {},
   "outputs": [
    {
     "data": {
      "text/plain": [
       "((2, 4, 2, 8, 1), (2, 0, 1))"
      ]
     },
     "execution_count": 3,
     "metadata": {},
     "output_type": "execute_result"
    }
   ],
   "source": [
    "p = Ascensores(estado_ini, estado_goal)\n",
    "p.initial"
   ]
  },
  {
   "cell_type": "code",
   "execution_count": 4,
   "metadata": {},
   "outputs": [
    {
     "data": {
      "text/plain": [
       "(3, 11, 12, 1, 9)"
      ]
     },
     "execution_count": 4,
     "metadata": {},
     "output_type": "execute_result"
    }
   ],
   "source": [
    "p.goal"
   ]
  },
  {
   "cell_type": "code",
   "execution_count": 5,
   "metadata": {},
   "outputs": [
    {
     "data": {
      "text/plain": [
       "[('Bajar', 0, 0),\n",
       " ('Subir', 0, 0),\n",
       " ('Llamar', 0, 1),\n",
       " ('LlamarRapido', 0, 2),\n",
       " ('Llamar', 1, 0),\n",
       " ('Llamar', 1, 1),\n",
       " ('LlamarRapido', 1, 2),\n",
       " ('Bajar', 2, 0),\n",
       " ('Subir', 2, 0),\n",
       " ('Llamar', 2, 1),\n",
       " ('LlamarRapido', 2, 2),\n",
       " ('Llamar', 3, 0),\n",
       " ('Llamar', 3, 1),\n",
       " ('LlamarRapido', 3, 2),\n",
       " ('Llamar', 4, 0),\n",
       " ('Llamar', 4, 1),\n",
       " ('BajarRapido', 4, 2),\n",
       " ('SubirRapido', 4, 2)]"
      ]
     },
     "execution_count": 5,
     "metadata": {},
     "output_type": "execute_result"
    }
   ],
   "source": [
    "p.actions(p.initial)"
   ]
  },
  {
   "cell_type": "code",
   "execution_count": 6,
   "metadata": {},
   "outputs": [
    {
     "data": {
      "text/plain": [
       "((2, 4, 2, 8, 1), (2, 0, 1))"
      ]
     },
     "execution_count": 6,
     "metadata": {},
     "output_type": "execute_result"
    }
   ],
   "source": [
    "p.result(p.initial, (\"Llamar\", 0, 0))"
   ]
  },
  {
   "cell_type": "code",
   "execution_count": 7,
   "metadata": {},
   "outputs": [
    {
     "data": {
      "text/plain": [
       "1.0"
      ]
     },
     "execution_count": 7,
     "metadata": {},
     "output_type": "execute_result"
    }
   ],
   "source": [
    "p.coste_de_aplicar_accion(p.initial, (\"LlamarRapido\", 1, 0))"
   ]
  },
  {
   "cell_type": "markdown",
   "metadata": {},
   "source": [
    "### Heurísticas"
   ]
  },
  {
   "cell_type": "code",
   "execution_count": 8,
   "metadata": {},
   "outputs": [],
   "source": [
    "# Numero de personas en una planta incorrecta a la de destino \n",
    "def descolocados(node):\n",
    "    res = 0\n",
    "    goal = estado_goal\n",
    "    for i in range(len(node.state[0])):\n",
    "        if goal[i] != node.state[0][i]:\n",
    "            res += 1\n",
    "    return res\n",
    "\n",
    "# Distancia de cada persona a su planta destino\n",
    "def distancias(node):\n",
    "    state = node.state[0]\n",
    "    dist = 0\n",
    "    goal = estado_goal\n",
    "    for i in range(len(state)):\n",
    "        if goal[i] != state[i]:\n",
    "            dist += abs(state[i] - goal[i])\n",
    "    return dist\n",
    "\n",
    "# Distancia de cada persona a su planta destino (con ascensor rapido)\n",
    "def distancias2(node):\n",
    "    state = node.state[0]\n",
    "    dist = 0\n",
    "    goal = estado_goal\n",
    "    for i in range(len(state)):\n",
    "        if goal[i] != state[i]:\n",
    "            dist += abs(state[i] - goal[i])//2\n",
    "        if goal[i] % 2 or state[i] % 2: #Si esta en una planta impar\n",
    "            dist += 1;\n",
    "    return dist"
   ]
  },
  {
   "cell_type": "markdown",
   "metadata": {},
   "source": [
    "### Búsqueda heurística"
   ]
  },
  {
   "cell_type": "code",
   "execution_count": 9,
   "metadata": {},
   "outputs": [],
   "source": [
    "from search import best_first_graph_search"
   ]
  },
  {
   "cell_type": "markdown",
   "metadata": {},
   "source": [
    "##### *Dos personas, plantas pares*"
   ]
  },
  {
   "cell_type": "code",
   "execution_count": 50,
   "metadata": {},
   "outputs": [],
   "source": [
    "estado_ini = ((0,0),(0,0))\n",
    "estado_goal = (4,10)\n",
    "p = Ascensores(estado_ini, estado_goal)"
   ]
  },
  {
   "cell_type": "code",
   "execution_count": 57,
   "metadata": {},
   "outputs": [
    {
     "name": "stdout",
     "output_type": "stream",
     "text": [
      "95.5 ms ± 3.25 ms per loop (mean ± std. dev. of 7 runs, 10 loops each)\n"
     ]
    }
   ],
   "source": [
    "%%timeit\n",
    "astar_search(p, descolocados).solution()"
   ]
  },
  {
   "cell_type": "code",
   "execution_count": 58,
   "metadata": {},
   "outputs": [
    {
     "name": "stdout",
     "output_type": "stream",
     "text": [
      "13.1 ms ± 216 µs per loop (mean ± std. dev. of 7 runs, 100 loops each)\n"
     ]
    }
   ],
   "source": [
    "%%timeit\n",
    "astar_search(p, distancias2).solution()"
   ]
  },
  {
   "cell_type": "code",
   "execution_count": 55,
   "metadata": {},
   "outputs": [
    {
     "name": "stdout",
     "output_type": "stream",
     "text": [
      "9.36 ms ± 288 µs per loop (mean ± std. dev. of 7 runs, 100 loops each)\n"
     ]
    }
   ],
   "source": [
    "%%timeit\n",
    "best_first_graph_search(p, descolocados).solution()"
   ]
  },
  {
   "cell_type": "code",
   "execution_count": 56,
   "metadata": {},
   "outputs": [
    {
     "name": "stdout",
     "output_type": "stream",
     "text": [
      "511 µs ± 19.5 µs per loop (mean ± std. dev. of 7 runs, 1000 loops each)\n"
     ]
    }
   ],
   "source": [
    "%%timeit\n",
    "best_first_graph_search(p, distancias2).solution()"
   ]
  },
  {
   "cell_type": "markdown",
   "metadata": {},
   "source": [
    "##### *Dos personas, plantas impares*"
   ]
  },
  {
   "cell_type": "code",
   "execution_count": 15,
   "metadata": {},
   "outputs": [],
   "source": [
    "estado_ini = ((1,3),(0,0))\n",
    "estado_goal = (7,5)\n",
    "p = Ascensores(estado_ini, estado_goal)"
   ]
  },
  {
   "cell_type": "code",
   "execution_count": 16,
   "metadata": {},
   "outputs": [
    {
     "name": "stdout",
     "output_type": "stream",
     "text": [
      "187 ms ± 35 ms per loop (mean ± std. dev. of 7 runs, 1 loop each)\n"
     ]
    }
   ],
   "source": [
    "%%timeit\n",
    "astar_search(p, descolocados).solution()"
   ]
  },
  {
   "cell_type": "code",
   "execution_count": 17,
   "metadata": {},
   "outputs": [
    {
     "name": "stdout",
     "output_type": "stream",
     "text": [
      "162 ms ± 32.5 ms per loop (mean ± std. dev. of 7 runs, 1 loop each)\n"
     ]
    }
   ],
   "source": [
    "%%timeit\n",
    "astar_search(p, distancias2).solution()"
   ]
  },
  {
   "cell_type": "code",
   "execution_count": 18,
   "metadata": {},
   "outputs": [
    {
     "name": "stdout",
     "output_type": "stream",
     "text": [
      "7.36 ms ± 932 µs per loop (mean ± std. dev. of 7 runs, 100 loops each)\n"
     ]
    }
   ],
   "source": [
    "%%timeit\n",
    "best_first_graph_search(p, descolocados).solution()"
   ]
  },
  {
   "cell_type": "code",
   "execution_count": 19,
   "metadata": {},
   "outputs": [
    {
     "name": "stdout",
     "output_type": "stream",
     "text": [
      "3.16 ms ± 76.3 µs per loop (mean ± std. dev. of 7 runs, 100 loops each)\n"
     ]
    }
   ],
   "source": [
    "%%timeit\n",
    "best_first_graph_search(p, distancias2).solution()"
   ]
  },
  {
   "cell_type": "markdown",
   "metadata": {},
   "source": [
    "##### *Dos personas, plantas pares e impares*"
   ]
  },
  {
   "cell_type": "code",
   "execution_count": 20,
   "metadata": {},
   "outputs": [],
   "source": [
    "estado_ini = ((2,4),(0,0))\n",
    "estado_goal = (7,1)\n",
    "p = Ascensores(estado_ini, estado_goal)"
   ]
  },
  {
   "cell_type": "code",
   "execution_count": 21,
   "metadata": {},
   "outputs": [
    {
     "name": "stdout",
     "output_type": "stream",
     "text": [
      "208 ms ± 4.09 ms per loop (mean ± std. dev. of 7 runs, 1 loop each)\n"
     ]
    }
   ],
   "source": [
    "%%timeit\n",
    "astar_search(p, descolocados).solution()"
   ]
  },
  {
   "cell_type": "code",
   "execution_count": 22,
   "metadata": {},
   "outputs": [
    {
     "name": "stdout",
     "output_type": "stream",
     "text": [
      "119 ms ± 5.46 ms per loop (mean ± std. dev. of 7 runs, 10 loops each)\n"
     ]
    }
   ],
   "source": [
    "%%timeit\n",
    "astar_search(p, distancias2).solution()"
   ]
  },
  {
   "cell_type": "code",
   "execution_count": 23,
   "metadata": {},
   "outputs": [
    {
     "name": "stdout",
     "output_type": "stream",
     "text": [
      "4.52 ms ± 178 µs per loop (mean ± std. dev. of 7 runs, 100 loops each)\n"
     ]
    }
   ],
   "source": [
    "%%timeit\n",
    "best_first_graph_search(p, descolocados).solution()"
   ]
  },
  {
   "cell_type": "code",
   "execution_count": 24,
   "metadata": {},
   "outputs": [
    {
     "name": "stdout",
     "output_type": "stream",
     "text": [
      "3.9 ms ± 186 µs per loop (mean ± std. dev. of 7 runs, 100 loops each)\n"
     ]
    }
   ],
   "source": [
    "%%timeit\n",
    "best_first_graph_search(p, distancias2).solution()"
   ]
  },
  {
   "cell_type": "markdown",
   "metadata": {},
   "source": [
    "##### *Tres personas*"
   ]
  },
  {
   "cell_type": "code",
   "execution_count": 29,
   "metadata": {},
   "outputs": [],
   "source": [
    "estado_ini = ((2,4,1),(0,0))\n",
    "estado_goal = (10,1,8)\n",
    "p = Ascensores(estado_ini, estado_goal)"
   ]
  },
  {
   "cell_type": "code",
   "execution_count": 30,
   "metadata": {},
   "outputs": [
    {
     "name": "stdout",
     "output_type": "stream",
     "text": [
      "Wall time: 1min 56s\n"
     ]
    },
    {
     "data": {
      "text/plain": [
       "[('LlamarRapido', 1, 1),\n",
       " ('BajarRapido', 1, 1),\n",
       " ('Llamar', 2, 0),\n",
       " ('Subir', 2, 0),\n",
       " ('Bajar', 1, 0),\n",
       " ('SubirRapido', 0, 1),\n",
       " ('SubirRapido', 0, 1),\n",
       " ('SubirRapido', 0, 1),\n",
       " ('SubirRapido', 0, 1),\n",
       " ('LlamarRapido', 2, 1),\n",
       " ('SubirRapido', 2, 1),\n",
       " ('SubirRapido', 2, 1),\n",
       " ('SubirRapido', 2, 1)]"
      ]
     },
     "execution_count": 30,
     "metadata": {},
     "output_type": "execute_result"
    }
   ],
   "source": [
    "%%time\n",
    "astar_search(p, descolocados).solution()"
   ]
  },
  {
   "cell_type": "code",
   "execution_count": 31,
   "metadata": {},
   "outputs": [
    {
     "name": "stdout",
     "output_type": "stream",
     "text": [
      "Wall time: 5.03 s\n"
     ]
    },
    {
     "data": {
      "text/plain": [
       "[('Llamar', 2, 0),\n",
       " ('Subir', 2, 0),\n",
       " ('LlamarRapido', 0, 1),\n",
       " ('SubirRapido', 2, 1),\n",
       " ('BajarRapido', 1, 1),\n",
       " ('SubirRapido', 0, 1),\n",
       " ('SubirRapido', 0, 1),\n",
       " ('SubirRapido', 0, 1),\n",
       " ('SubirRapido', 0, 1),\n",
       " ('LlamarRapido', 2, 1),\n",
       " ('SubirRapido', 2, 1),\n",
       " ('SubirRapido', 2, 1),\n",
       " ('Bajar', 1, 0)]"
      ]
     },
     "execution_count": 31,
     "metadata": {},
     "output_type": "execute_result"
    }
   ],
   "source": [
    "%%time\n",
    "astar_search(p, distancias2).solution()"
   ]
  },
  {
   "cell_type": "code",
   "execution_count": 32,
   "metadata": {},
   "outputs": [
    {
     "name": "stdout",
     "output_type": "stream",
     "text": [
      "Wall time: 151 ms\n"
     ]
    },
    {
     "data": {
      "text/plain": [
       "[('LlamarRapido', 0, 1),\n",
       " ('BajarRapido', 0, 1),\n",
       " ('LlamarRapido', 1, 1),\n",
       " ('BajarRapido', 1, 1),\n",
       " ('BajarRapido', 1, 1),\n",
       " ('Subir', 1, 0),\n",
       " ('Bajar', 2, 0),\n",
       " ('SubirRapido', 2, 1),\n",
       " ('SubirRapido', 2, 1),\n",
       " ('SubirRapido', 2, 1),\n",
       " ('SubirRapido', 2, 1),\n",
       " ('LlamarRapido', 0, 1),\n",
       " ('SubirRapido', 0, 1),\n",
       " ('SubirRapido', 0, 1),\n",
       " ('SubirRapido', 0, 1),\n",
       " ('SubirRapido', 0, 1),\n",
       " ('SubirRapido', 0, 1)]"
      ]
     },
     "execution_count": 32,
     "metadata": {},
     "output_type": "execute_result"
    }
   ],
   "source": [
    "%%time\n",
    "best_first_graph_search(p, descolocados).solution()"
   ]
  },
  {
   "cell_type": "code",
   "execution_count": 33,
   "metadata": {},
   "outputs": [
    {
     "name": "stdout",
     "output_type": "stream",
     "text": [
      "Wall time: 5.99 ms\n"
     ]
    },
    {
     "data": {
      "text/plain": [
       "[('LlamarRapido', 0, 1),\n",
       " ('SubirRapido', 0, 1),\n",
       " ('BajarRapido', 1, 1),\n",
       " ('BajarRapido', 1, 1),\n",
       " ('LlamarRapido', 0, 1),\n",
       " ('SubirRapido', 0, 1),\n",
       " ('SubirRapido', 0, 1),\n",
       " ('SubirRapido', 0, 1),\n",
       " ('LlamarRapido', 1, 1),\n",
       " ('Llamar', 2, 0),\n",
       " ('Subir', 2, 0),\n",
       " ('Llamar', 1, 0),\n",
       " ('LlamarRapido', 2, 1),\n",
       " ('SubirRapido', 2, 1),\n",
       " ('SubirRapido', 2, 1),\n",
       " ('SubirRapido', 2, 1),\n",
       " ('LlamarRapido', 1, 1),\n",
       " ('Subir', 1, 0)]"
      ]
     },
     "execution_count": 33,
     "metadata": {},
     "output_type": "execute_result"
    }
   ],
   "source": [
    "%%time\n",
    "best_first_graph_search(p, distancias2).solution()"
   ]
  },
  {
   "cell_type": "markdown",
   "metadata": {},
   "source": [
    "##### *Dos personas, tres ascensores*"
   ]
  },
  {
   "cell_type": "code",
   "execution_count": 34,
   "metadata": {},
   "outputs": [],
   "source": [
    "estado_ini = ((2,4),(0,1,6))\n",
    "estado_goal = (10,1)\n",
    "p = Ascensores(estado_ini, estado_goal)"
   ]
  },
  {
   "cell_type": "code",
   "execution_count": 36,
   "metadata": {},
   "outputs": [
    {
     "name": "stdout",
     "output_type": "stream",
     "text": [
      "Wall time: 13 s\n"
     ]
    },
    {
     "data": {
      "text/plain": [
       "[('LlamarRapido', 1, 2),\n",
       " ('BajarRapido', 1, 2),\n",
       " ('Llamar', 0, 1),\n",
       " ('Bajar', 1, 1),\n",
       " ('SubirRapido', 0, 2),\n",
       " ('SubirRapido', 0, 2),\n",
       " ('SubirRapido', 0, 2),\n",
       " ('SubirRapido', 0, 2)]"
      ]
     },
     "execution_count": 36,
     "metadata": {},
     "output_type": "execute_result"
    }
   ],
   "source": [
    "%%time\n",
    "astar_search(p, descolocados).solution()"
   ]
  },
  {
   "cell_type": "code",
   "execution_count": 35,
   "metadata": {},
   "outputs": [
    {
     "name": "stdout",
     "output_type": "stream",
     "text": [
      "Wall time: 716 ms\n"
     ]
    },
    {
     "data": {
      "text/plain": [
       "[('LlamarRapido', 1, 2),\n",
       " ('BajarRapido', 1, 2),\n",
       " ('SubirRapido', 0, 2),\n",
       " ('SubirRapido', 0, 2),\n",
       " ('SubirRapido', 0, 2),\n",
       " ('SubirRapido', 0, 2),\n",
       " ('Llamar', 1, 1),\n",
       " ('Bajar', 1, 1)]"
      ]
     },
     "execution_count": 35,
     "metadata": {},
     "output_type": "execute_result"
    }
   ],
   "source": [
    "%%time\n",
    "astar_search(p, distancias2).solution()"
   ]
  },
  {
   "cell_type": "code",
   "execution_count": 38,
   "metadata": {},
   "outputs": [
    {
     "name": "stdout",
     "output_type": "stream",
     "text": [
      "Wall time: 1.58 s\n"
     ]
    },
    {
     "data": {
      "text/plain": [
       "[('LlamarRapido', 0, 2),\n",
       " ('BajarRapido', 0, 2),\n",
       " ('Llamar', 0, 1),\n",
       " ('LlamarRapido', 1, 2),\n",
       " ('BajarRapido', 1, 2),\n",
       " ('BajarRapido', 1, 2),\n",
       " ('Subir', 1, 1),\n",
       " ('Llamar', 0, 1),\n",
       " ('SubirRapido', 0, 2),\n",
       " ('SubirRapido', 0, 2),\n",
       " ('SubirRapido', 0, 2),\n",
       " ('SubirRapido', 0, 2),\n",
       " ('SubirRapido', 0, 2)]"
      ]
     },
     "execution_count": 38,
     "metadata": {},
     "output_type": "execute_result"
    }
   ],
   "source": [
    "%%time\n",
    "best_first_graph_search(p, descolocados).solution()"
   ]
  },
  {
   "cell_type": "code",
   "execution_count": 40,
   "metadata": {},
   "outputs": [
    {
     "name": "stdout",
     "output_type": "stream",
     "text": [
      "Wall time: 2.99 ms\n"
     ]
    },
    {
     "data": {
      "text/plain": [
       "[('LlamarRapido', 0, 2),\n",
       " ('SubirRapido', 0, 2),\n",
       " ('BajarRapido', 1, 2),\n",
       " ('BajarRapido', 1, 2),\n",
       " ('Llamar', 1, 1),\n",
       " ('LlamarRapido', 0, 2),\n",
       " ('SubirRapido', 0, 2),\n",
       " ('SubirRapido', 0, 2),\n",
       " ('SubirRapido', 0, 2),\n",
       " ('LlamarRapido', 1, 2),\n",
       " ('Subir', 1, 1)]"
      ]
     },
     "execution_count": 40,
     "metadata": {},
     "output_type": "execute_result"
    }
   ],
   "source": [
    "%%time\n",
    "best_first_graph_search(p, distancias2).solution()"
   ]
  },
  {
   "cell_type": "markdown",
   "metadata": {},
   "source": [
    "##### *Cinco personas, dos ascensores*"
   ]
  },
  {
   "cell_type": "code",
   "execution_count": 41,
   "metadata": {},
   "outputs": [],
   "source": [
    "estado_ini = ((2,4,1,8,1),(0,0))\n",
    "estado_goal = (3,11,12,1,9)\n",
    "p = Ascensores(estado_ini, estado_goal)"
   ]
  },
  {
   "cell_type": "code",
   "execution_count": 42,
   "metadata": {},
   "outputs": [
    {
     "name": "stdout",
     "output_type": "stream",
     "text": [
      "Wall time: 7.08 s\n"
     ]
    },
    {
     "data": {
      "text/plain": [
       "[('LlamarRapido', 1, 1),\n",
       " ('SubirRapido', 1, 1),\n",
       " ('SubirRapido', 1, 1),\n",
       " ('BajarRapido', 3, 1),\n",
       " ('BajarRapido', 3, 1),\n",
       " ('BajarRapido', 3, 1),\n",
       " ('BajarRapido', 3, 1),\n",
       " ('LlamarRapido', 1, 1),\n",
       " ('SubirRapido', 1, 1),\n",
       " ('LlamarRapido', 3, 1),\n",
       " ('Llamar', 2, 0),\n",
       " ('Subir', 4, 0),\n",
       " ('Llamar', 3, 0),\n",
       " ('LlamarRapido', 0, 1),\n",
       " ('SubirRapido', 4, 1),\n",
       " ('SubirRapido', 4, 1),\n",
       " ('SubirRapido', 4, 1),\n",
       " ('LlamarRapido', 3, 1),\n",
       " ('Llamar', 2, 0),\n",
       " ('Subir', 2, 0),\n",
       " ('Llamar', 3, 0),\n",
       " ('LlamarRapido', 0, 1),\n",
       " ('SubirRapido', 2, 1),\n",
       " ('SubirRapido', 2, 1),\n",
       " ('SubirRapido', 2, 1),\n",
       " ('SubirRapido', 2, 1),\n",
       " ('SubirRapido', 2, 1),\n",
       " ('LlamarRapido', 3, 1),\n",
       " ('Llamar', 1, 0),\n",
       " ('Subir', 1, 0),\n",
       " ('Llamar', 4, 0),\n",
       " ('Subir', 4, 0),\n",
       " ('Llamar', 0, 0),\n",
       " ('Subir', 0, 0),\n",
       " ('Llamar', 3, 0),\n",
       " ('Subir', 3, 0)]"
      ]
     },
     "execution_count": 42,
     "metadata": {},
     "output_type": "execute_result"
    }
   ],
   "source": [
    "%%time\n",
    "best_first_graph_search(p, distancias2).solution();"
   ]
  },
  {
   "cell_type": "code",
   "execution_count": 43,
   "metadata": {},
   "outputs": [
    {
     "name": "stdout",
     "output_type": "stream",
     "text": [
      "Wall time: 2.41 s\n"
     ]
    },
    {
     "data": {
      "text/plain": [
       "[('LlamarRapido', 0, 1),\n",
       " ('BajarRapido', 0, 1),\n",
       " ('LlamarRapido', 1, 1),\n",
       " ('BajarRapido', 1, 1),\n",
       " ('BajarRapido', 1, 1),\n",
       " ('LlamarRapido', 3, 1),\n",
       " ('BajarRapido', 3, 1),\n",
       " ('BajarRapido', 3, 1),\n",
       " ('BajarRapido', 3, 1),\n",
       " ('BajarRapido', 3, 1),\n",
       " ('Subir', 3, 0),\n",
       " ('Bajar', 2, 0),\n",
       " ('Llamar', 3, 0),\n",
       " ('Subir', 4, 0),\n",
       " ('Subir', 4, 0),\n",
       " ('Subir', 4, 0),\n",
       " ('Subir', 4, 0),\n",
       " ('Subir', 4, 0),\n",
       " ('Subir', 4, 0),\n",
       " ('Subir', 4, 0),\n",
       " ('Subir', 4, 0),\n",
       " ('Llamar', 0, 0),\n",
       " ('SubirRapido', 2, 1),\n",
       " ('SubirRapido', 2, 1),\n",
       " ('SubirRapido', 2, 1),\n",
       " ('SubirRapido', 2, 1),\n",
       " ('SubirRapido', 2, 1),\n",
       " ('SubirRapido', 2, 1),\n",
       " ('LlamarRapido', 0, 1),\n",
       " ('Subir', 1, 0),\n",
       " ('Subir', 1, 0),\n",
       " ('Subir', 1, 0),\n",
       " ('Subir', 1, 0),\n",
       " ('Subir', 1, 0),\n",
       " ('Subir', 1, 0),\n",
       " ('Subir', 1, 0),\n",
       " ('Subir', 1, 0),\n",
       " ('Subir', 1, 0),\n",
       " ('Subir', 1, 0),\n",
       " ('Subir', 1, 0),\n",
       " ('Llamar', 0, 0),\n",
       " ('Subir', 0, 0),\n",
       " ('Subir', 0, 0),\n",
       " ('Subir', 0, 0)]"
      ]
     },
     "execution_count": 43,
     "metadata": {},
     "output_type": "execute_result"
    }
   ],
   "source": [
    "%%time\n",
    "best_first_graph_search(p, descolocados).solution();"
   ]
  }
 ],
 "metadata": {
  "kernelspec": {
   "display_name": "Python 3",
   "language": "python",
   "name": "python3"
  },
  "language_info": {
   "codemirror_mode": {
    "name": "ipython",
    "version": 3
   },
   "file_extension": ".py",
   "mimetype": "text/x-python",
   "name": "python",
   "nbconvert_exporter": "python",
   "pygments_lexer": "ipython3",
   "version": "3.7.3"
  }
 },
 "nbformat": 4,
 "nbformat_minor": 4
}

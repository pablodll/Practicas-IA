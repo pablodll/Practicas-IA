{
 "cells": [
  {
   "cell_type": "markdown",
   "metadata": {},
   "source": [
    "## Practica 2B (Ascensores)\n",
    "##### Alberto García Doménech - Pablo Daurell Marina (Grupo 03)"
   ]
  },
  {
   "cell_type": "code",
   "execution_count": 2,
   "metadata": {},
   "outputs": [],
   "source": [
    "# Restriccion: Una persona por ascensor\n",
    "# estado_ini = ( (personas), (ascensores) )\n",
    "estado_ini = (\n",
    "    (1,5), (0,0)\n",
    ")\n",
    "\n",
    "# estado_goal = (personas)\n",
    "estado_goal = (5,10)\n",
    "\n",
    "# Acciones\n",
    "# Llamar ascensor persona (mueve un ascensor vacio a una planta)\n",
    "# Subir ascensor persona (sube una persona dentro de un ascensor una planta) (comprobar si ascensor y persona estan en misma planta)\n",
    "# Bajar ascensor persona (baja una persona dentro de un ascensor una planta) (comprobar si ascensor y persona estan en misma planta)"
   ]
  },
  {
   "cell_type": "code",
   "execution_count": 3,
   "metadata": {},
   "outputs": [],
   "source": [
    "from search import *\n",
    "\n",
    "class Ascensores(Problem):\n",
    "    \n",
    "    def __init__(self, initial, goal):\n",
    "        self.goal = goal\n",
    "        Problem.__init__(self, initial, goal)\n",
    "\n",
    "    def actions(self, estado):\n",
    "        personas = list(estado[0])\n",
    "        ascensores = list(estado[1])\n",
    "        accs = list()\n",
    "        for i, persona in enumerate(personas):\n",
    "            for j, ascensor in enumerate(ascensores):\n",
    "                if persona != ascensor:\n",
    "                    accs.append((\"Llamar\", i, j))            # Persona i llama a asccensor j\n",
    "                if persona == ascensor and int(persona) > 0:\n",
    "                    accs.append((\"Bajar\", i, j))             # Bajar persona i en ascensor j\n",
    "                if persona == ascensor and int(persona) < 12:\n",
    "                    accs.append((\"Subir\", i, j))             # Subir persona i en ascensor j\n",
    "        return accs\n",
    "    \n",
    "    def result(self, estado, accion):\n",
    "        personas = list(estado[0])\n",
    "        ascensores = list(estado[1])\n",
    "        p = accion[1]\n",
    "        a = accion[2]\n",
    "        if accion[0] == \"Llamar\":\n",
    "            ascensores[a] = int(personas[p])\n",
    "        elif accion[0] == \"Bajar\":\n",
    "            ascensores[a] -= 1\n",
    "            personas[p] -= 1\n",
    "        elif accion[0] == \"Subir\":\n",
    "            ascensores[a] += 1\n",
    "            personas[p] += 1\n",
    "        return (tuple(personas), tuple(ascensores))\n",
    "    \n",
    "    def goal_test(self, estado):\n",
    "        return estado[0] == self.goal\n",
    "    \n",
    "    def coste_de_aplicar_accion(self, estado, accion):\n",
    "        personas = list(estado[0])\n",
    "        ascensores = list(estado[1])\n",
    "        p = accion[1]\n",
    "        a = accion[2]\n",
    "        if accion[0] == \"Llamar\":\n",
    "            coste = abs(personas[p] - ascensores[a])\n",
    "        elif accion[0] == \"Bajar\":\n",
    "            coste = 1\n",
    "        elif accion[0] == \"Subir\":\n",
    "            coste = 1\n",
    "        return coste\n"
   ]
  },
  {
   "cell_type": "code",
   "execution_count": 4,
   "metadata": {},
   "outputs": [
    {
     "data": {
      "text/plain": [
       "((1, 5), (0, 0))"
      ]
     },
     "execution_count": 4,
     "metadata": {},
     "output_type": "execute_result"
    }
   ],
   "source": [
    "p = Ascensores(estado_ini, estado_goal)\n",
    "p.initial"
   ]
  },
  {
   "cell_type": "code",
   "execution_count": 5,
   "metadata": {},
   "outputs": [
    {
     "data": {
      "text/plain": [
       "(5, 10)"
      ]
     },
     "execution_count": 5,
     "metadata": {},
     "output_type": "execute_result"
    }
   ],
   "source": [
    "p.goal"
   ]
  },
  {
   "cell_type": "code",
   "execution_count": 6,
   "metadata": {},
   "outputs": [
    {
     "data": {
      "text/plain": [
       "[('Llamar', 0, 0), ('Llamar', 0, 1), ('Llamar', 1, 0), ('Llamar', 1, 1)]"
      ]
     },
     "execution_count": 6,
     "metadata": {},
     "output_type": "execute_result"
    }
   ],
   "source": [
    "p.actions(p.initial)"
   ]
  },
  {
   "cell_type": "code",
   "execution_count": 7,
   "metadata": {},
   "outputs": [
    {
     "data": {
      "text/plain": [
       "((1, 5), (1, 0))"
      ]
     },
     "execution_count": 7,
     "metadata": {},
     "output_type": "execute_result"
    }
   ],
   "source": [
    "p.result(p.initial, (\"Llamar\", 0, 0))"
   ]
  },
  {
   "cell_type": "code",
   "execution_count": 8,
   "metadata": {},
   "outputs": [
    {
     "data": {
      "text/plain": [
       "5"
      ]
     },
     "execution_count": 8,
     "metadata": {},
     "output_type": "execute_result"
    }
   ],
   "source": [
    "p.coste_de_aplicar_accion(p.initial, (\"Llamar\", 1, 0))"
   ]
  },
  {
   "cell_type": "markdown",
   "metadata": {},
   "source": [
    "### Heurísticas"
   ]
  },
  {
   "cell_type": "code",
   "execution_count": 15,
   "metadata": {},
   "outputs": [],
   "source": [
    "# Numero de personas en una planta incorrecta a la de destino \n",
    "def wrong_pos(node):\n",
    "    res = 0\n",
    "    goal = estado_goal\n",
    "    for i in range(len(node.state[0])):\n",
    "        if goal[i] != node.state[0][i]:\n",
    "            res += 1\n",
    "    return res\n",
    "\n",
    "# Distancia de cada persona a su planta destino\n",
    "def p_distance(node):\n",
    "    state = node.state[0]\n",
    "    dist = 0\n",
    "    goal = estado_goal\n",
    "    for i in range(len(state)):\n",
    "        if goal[i] != state[i]:\n",
    "            dist += abs(state[i] - goal[i])\n",
    "    return dist"
   ]
  },
  {
   "cell_type": "markdown",
   "metadata": {},
   "source": [
    "### Búsqueda ciega"
   ]
  },
  {
   "cell_type": "code",
   "execution_count": 11,
   "metadata": {},
   "outputs": [
    {
     "name": "stdout",
     "output_type": "stream",
     "text": [
      "Wall time: 284 ms\n"
     ]
    },
    {
     "data": {
      "text/plain": [
       "[('Llamar', 0, 0),\n",
       " ('Subir', 0, 0),\n",
       " ('Subir', 0, 0),\n",
       " ('Subir', 0, 0),\n",
       " ('Subir', 0, 0),\n",
       " ('Subir', 1, 0),\n",
       " ('Subir', 1, 0),\n",
       " ('Subir', 1, 0),\n",
       " ('Subir', 1, 0),\n",
       " ('Subir', 1, 0)]"
      ]
     },
     "execution_count": 11,
     "metadata": {},
     "output_type": "execute_result"
    }
   ],
   "source": [
    "%%time\n",
    "breadth_first_graph_search(p).solution()"
   ]
  },
  {
   "cell_type": "code",
   "execution_count": 12,
   "metadata": {},
   "outputs": [
    {
     "name": "stdout",
     "output_type": "stream",
     "text": [
      "Wall time: 46.9 ms\n"
     ]
    },
    {
     "data": {
      "text/plain": [
       "[('Llamar', 1, 1),\n",
       " ('Subir', 1, 1),\n",
       " ('Subir', 1, 1),\n",
       " ('Subir', 1, 1),\n",
       " ('Subir', 1, 1),\n",
       " ('Subir', 1, 1),\n",
       " ('Subir', 1, 1),\n",
       " ('Subir', 1, 1),\n",
       " ('Llamar', 1, 0),\n",
       " ('Bajar', 1, 1),\n",
       " ('Bajar', 1, 1),\n",
       " ('Bajar', 1, 1),\n",
       " ('Bajar', 1, 1),\n",
       " ('Bajar', 1, 1),\n",
       " ('Bajar', 1, 1),\n",
       " ('Bajar', 1, 1),\n",
       " ('Bajar', 1, 1),\n",
       " ('Bajar', 1, 1),\n",
       " ('Bajar', 1, 1),\n",
       " ('Bajar', 1, 1),\n",
       " ('Bajar', 1, 1),\n",
       " ('Llamar', 1, 0),\n",
       " ('Subir', 1, 1),\n",
       " ('Subir', 1, 1),\n",
       " ('Subir', 1, 1),\n",
       " ('Llamar', 0, 1),\n",
       " ('Llamar', 1, 0),\n",
       " ('Subir', 1, 0),\n",
       " ('Subir', 1, 0),\n",
       " ('Subir', 1, 0),\n",
       " ('Subir', 1, 0),\n",
       " ('Subir', 1, 0),\n",
       " ('Subir', 1, 0),\n",
       " ('Subir', 1, 0),\n",
       " ('Subir', 1, 0),\n",
       " ('Subir', 0, 1),\n",
       " ('Llamar', 1, 1),\n",
       " ('Subir', 1, 1),\n",
       " ('Llamar', 1, 0),\n",
       " ('Bajar', 1, 1),\n",
       " ('Bajar', 1, 1),\n",
       " ('Bajar', 1, 1),\n",
       " ('Bajar', 1, 1),\n",
       " ('Bajar', 1, 1),\n",
       " ('Bajar', 1, 1),\n",
       " ('Bajar', 1, 1),\n",
       " ('Bajar', 1, 1),\n",
       " ('Bajar', 1, 1),\n",
       " ('Bajar', 1, 1),\n",
       " ('Bajar', 1, 1),\n",
       " ('Bajar', 1, 1),\n",
       " ('Llamar', 1, 0),\n",
       " ('Subir', 1, 1),\n",
       " ('Subir', 1, 1),\n",
       " ('Subir', 1, 1),\n",
       " ('Subir', 1, 1),\n",
       " ('Subir', 1, 1),\n",
       " ('Subir', 1, 1),\n",
       " ('Subir', 1, 1),\n",
       " ('Subir', 1, 1),\n",
       " ('Subir', 1, 1),\n",
       " ('Subir', 1, 1),\n",
       " ('Subir', 1, 1),\n",
       " ('Subir', 1, 1),\n",
       " ('Llamar', 0, 1),\n",
       " ('Subir', 0, 1),\n",
       " ('Llamar', 1, 1),\n",
       " ('Bajar', 1, 1),\n",
       " ('Bajar', 1, 1),\n",
       " ('Bajar', 1, 1),\n",
       " ('Bajar', 1, 1),\n",
       " ('Bajar', 1, 1),\n",
       " ('Bajar', 1, 1),\n",
       " ('Bajar', 1, 1),\n",
       " ('Bajar', 1, 1),\n",
       " ('Bajar', 1, 1),\n",
       " ('Bajar', 1, 1),\n",
       " ('Bajar', 1, 1),\n",
       " ('Bajar', 1, 1),\n",
       " ('Subir', 1, 0),\n",
       " ('Subir', 1, 0),\n",
       " ('Subir', 1, 0),\n",
       " ('Subir', 1, 0),\n",
       " ('Subir', 1, 0),\n",
       " ('Subir', 1, 0),\n",
       " ('Subir', 1, 0),\n",
       " ('Subir', 1, 0),\n",
       " ('Subir', 1, 0),\n",
       " ('Subir', 1, 0),\n",
       " ('Subir', 1, 0),\n",
       " ('Subir', 1, 0),\n",
       " ('Llamar', 0, 0),\n",
       " ('Subir', 0, 0),\n",
       " ('Llamar', 1, 1),\n",
       " ('Bajar', 1, 1),\n",
       " ('Bajar', 1, 1),\n",
       " ('Bajar', 1, 1),\n",
       " ('Bajar', 1, 1),\n",
       " ('Bajar', 1, 1),\n",
       " ('Bajar', 1, 1),\n",
       " ('Bajar', 1, 1),\n",
       " ('Bajar', 1, 1),\n",
       " ('Bajar', 1, 1),\n",
       " ('Bajar', 1, 1),\n",
       " ('Bajar', 1, 1),\n",
       " ('Bajar', 1, 1),\n",
       " ('Llamar', 1, 0),\n",
       " ('Subir', 1, 1),\n",
       " ('Subir', 1, 1),\n",
       " ('Subir', 1, 1),\n",
       " ('Subir', 1, 1),\n",
       " ('Subir', 1, 1),\n",
       " ('Subir', 1, 1),\n",
       " ('Subir', 1, 1),\n",
       " ('Subir', 1, 1),\n",
       " ('Subir', 1, 1),\n",
       " ('Subir', 1, 1),\n",
       " ('Subir', 1, 1),\n",
       " ('Llamar', 0, 1),\n",
       " ('Llamar', 1, 0),\n",
       " ('Subir', 1, 0),\n",
       " ('Subir', 0, 1),\n",
       " ('Llamar', 1, 1),\n",
       " ('Bajar', 1, 1),\n",
       " ('Bajar', 1, 1)]"
      ]
     },
     "execution_count": 12,
     "metadata": {},
     "output_type": "execute_result"
    }
   ],
   "source": [
    "%%time\n",
    "depth_first_graph_search(p).solution()"
   ]
  },
  {
   "cell_type": "markdown",
   "metadata": {},
   "source": [
    "### Búsqueda heurística"
   ]
  },
  {
   "cell_type": "code",
   "execution_count": 13,
   "metadata": {},
   "outputs": [
    {
     "name": "stdout",
     "output_type": "stream",
     "text": [
      "Wall time: 15 ms\n"
     ]
    },
    {
     "data": {
      "text/plain": [
       "[('Llamar', 0, 1),\n",
       " ('Subir', 0, 1),\n",
       " ('Subir', 0, 1),\n",
       " ('Subir', 0, 1),\n",
       " ('Subir', 0, 1),\n",
       " ('Subir', 1, 1),\n",
       " ('Subir', 1, 1),\n",
       " ('Subir', 1, 1),\n",
       " ('Subir', 1, 1),\n",
       " ('Subir', 1, 1)]"
      ]
     },
     "execution_count": 13,
     "metadata": {},
     "output_type": "execute_result"
    }
   ],
   "source": [
    "%%time\n",
    "astar_search(p, p_distance).solution()"
   ]
  },
  {
   "cell_type": "code",
   "execution_count": 16,
   "metadata": {},
   "outputs": [
    {
     "name": "stdout",
     "output_type": "stream",
     "text": [
      "Wall time: 1.08 s\n"
     ]
    },
    {
     "data": {
      "text/plain": [
       "[('Llamar', 0, 1),\n",
       " ('Subir', 0, 1),\n",
       " ('Subir', 0, 1),\n",
       " ('Subir', 0, 1),\n",
       " ('Subir', 0, 1),\n",
       " ('Subir', 1, 1),\n",
       " ('Subir', 1, 1),\n",
       " ('Subir', 1, 1),\n",
       " ('Subir', 1, 1),\n",
       " ('Subir', 1, 1)]"
      ]
     },
     "execution_count": 16,
     "metadata": {},
     "output_type": "execute_result"
    }
   ],
   "source": [
    "%%time\n",
    "astar_search(p, wrong_pos).solution()"
   ]
  },
  {
   "cell_type": "code",
   "execution_count": null,
   "metadata": {},
   "outputs": [],
   "source": []
  },
  {
   "cell_type": "code",
   "execution_count": null,
   "metadata": {},
   "outputs": [],
   "source": []
  }
 ],
 "metadata": {
  "kernelspec": {
   "display_name": "Python 3",
   "language": "python",
   "name": "python3"
  },
  "language_info": {
   "codemirror_mode": {
    "name": "ipython",
    "version": 3
   },
   "file_extension": ".py",
   "mimetype": "text/x-python",
   "name": "python",
   "nbconvert_exporter": "python",
   "pygments_lexer": "ipython3",
   "version": "3.7.3"
  }
 },
 "nbformat": 4,
 "nbformat_minor": 4
}

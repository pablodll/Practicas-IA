{
 "cells": [
  {
   "cell_type": "code",
   "execution_count": null,
   "metadata": {},
   "outputs": [],
   "source": [
    "# (planta, [personas], [ascensores])\n",
    "# ascensores_lentos = 0,1,2,3  ascensor_rapido = 4\n",
    "estado_ini = {\n",
    "    (0, [], [0,4])\n",
    "    (1, [2,4], []),\n",
    "    (2, [0], []),\n",
    "    (3, [], []),\n",
    "    (4, [1], [1,2]),\n",
    "    (5, [], []),\n",
    "    (6, [], []),\n",
    "    (7, [], []),\n",
    "    (8, [3], [3]),\n",
    "    (9, [], []),\n",
    "    (10, [], []),\n",
    "    (11, [], []),\n",
    "    (12, [], [])\n",
    "}\n",
    "\n",
    "estado_fin = {}\n",
    "    (0, [], [])\n",
    "    (1, [3], []),\n",
    "    (2, [], []),\n",
    "    (3, [0], []),\n",
    "    (4, [], []),\n",
    "    (5, [], []),\n",
    "    (6, [], []),\n",
    "    (7, [], []),\n",
    "    (8, [], []),\n",
    "    (9, [4], []),\n",
    "    (10, [], []),\n",
    "    (11, [1], []),\n",
    "    (12, [2], [])\n",
    "}\n",
    "\n",
    "'''self._actions = [('a',(0,0)), ('a',(0,1)), ('a',(0,2)), ('a',(0,3)), ('a',(0,4)),\n",
    "                         ('a',(1,4)), ('a',(1,5)), ('a',(1,6)), ('a',(1,7)), ('a',(1,8)),\n",
    "                         ('a',(2,4)), ('a',(2,5)), ('a',(2,6)), ('a',(2,7)), ('a',(2,8)),\n",
    "                         ('a',(3,8)), ('a',(3,9)), ('a',(3,10)), ('a',(3,11)), ('a',(3,12)),\n",
    "                         ('a',(4,0)), ('a',(4,2)), ('a',(4,4)), ('a',(4,6)), ('a',(4,8)), ('a',(4,10)), ('a',(4,12)),\n",
    "                         ('p',(0,0)), ('p',(0,1)), ('p',(0,2)), ('p',(0,3)), ('p',(0,4)),\n",
    "                         ('p',(1,0)), ('p',(1,1)), ('p',(1,2)), ('p',(1,3)), ('p',(1,4)),\n",
    "                         ('p',(2,0)), ('p',(2,1)), ('p',(2,2)), ('p',(2,3)), ('p',(2,4)),\n",
    "                         ('p',(3,0)), ('p',(3,1)), ('p',(3,2)), ('p',(3,3)), ('p',(3,4)),\n",
    "                         ('p',(4,0)), ('p',(4,1)), ('p',(4,2)), ('p',(4,3)), ('p',(4,4)),\n",
    "                        ]'''"
   ]
  },
  {
   "cell_type": "code",
   "execution_count": 2,
   "metadata": {},
   "outputs": [
    {
     "ename": "SyntaxError",
     "evalue": "invalid syntax (<ipython-input-2-a819662b46dd>, line 4)",
     "output_type": "error",
     "traceback": [
      "\u001b[1;36m  File \u001b[1;32m\"<ipython-input-2-a819662b46dd>\"\u001b[1;36m, line \u001b[1;32m4\u001b[0m\n\u001b[1;33m    personas = [2, 4, 1, 8, 1]\u001b[0m\n\u001b[1;37m             ^\u001b[0m\n\u001b[1;31mSyntaxError\u001b[0m\u001b[1;31m:\u001b[0m invalid syntax\n"
     ]
    }
   ],
   "source": [
    "# Suponemos que solo cabe una persona por ascensor\n",
    "# ascensores_lentos = 0,1,2,3  ascensor_rapido = 4\n",
    "estado_ini = {\n",
    "    personas = [2, 4, 1, 8, 1]\n",
    "    ascensores = [0, 4, 4, 8, 0]\n",
    "}\n",
    "\n",
    "estado_fin = {\n",
    "    personas = [3, 11, 12, 1, 9]\n",
    "    ascensores = []\n",
    "}"
   ]
  },
  {
   "cell_type": "code",
   "execution_count": null,
   "metadata": {},
   "outputs": [],
   "source": [
    "# importamos las cosas que vamos a usar de aima\n",
    "from search import *\n",
    "\n",
    "class ProblemaAscensores(Problem):\n",
    "    ''' Clase problema (formalizacion de nuestro problema) siguiendo la\n",
    "        estructura que aima espera que tengan los problemas.'''\n",
    "    def __init__(self, initial, goal=None):\n",
    "        '''Inicializacion de nuestro problema.'''\n",
    "        Problem.__init__(self, initial, goal)\n",
    "        self._actions = [('a',(0,0)), ('a',(0,1)), ('a',(0,2)), ('a',(0,3)), ('a',(0,4)),\n",
    "                         ('a',(1,4)), ('a',(1,5)), ('a',(1,6)), ('a',(1,7)), ('a',(1,8)),\n",
    "                         ('a',(3,8)), ('a',(3,9)), ('a',(3,10)), ('a',(3,11)), ('a',(3,12)),\n",
    "                         ('a',(4,0)), ('a',(4,2)), ('a',(4,4)), ('a',(4,6)), ('a',(4,8)), ('a',(4,10)), ('a',(4,12)),\n",
    "                         ('p',(0,0)), ('p',(0,1)), ('p',(0,2)), ('p',(0,3)), ('p',(0,4)),\n",
    "                         ('p',(1,0)), ('p',(1,1)), ('p',(1,2)), ('p',(1,3)), ('p',(1,4)),\n",
    "                         ('p',(2,0)), ('p',(2,1)), ('p',(2,2)), ('p',(2,3)), ('p',(2,4)),\n",
    "                        ]\n",
    "\n",
    "    def actions(self, s):\n",
    "        '''Devuelve las acciones validas para un estado.'''\n",
    "        # las acciones validas para un estado son aquellas que al aplicarse\n",
    "        # nos dejan en otro estado valido\n",
    "        return [a for a in self._actions if self._is_valid(s, a)]\n",
    "\n",
    "    def _is_valid(self, a):\n",
    "        '''Determina si un estado es valido o no.'''\n",
    "        if a[0] = 'p':\n",
    "            x = a[1]\n",
    "            if(self.personas[x[0]] == self.ascensores)\n",
    "        return (s[0] >= s[1] or s[0] == 0) and ((3 - s[0]) >= (3 - s[1]) or s[0] == 3) and (0 <= s[0] <= 3) and (0 <= s[1] <= 3)\n",
    "\n",
    "    def result(self, s, a):\n",
    "        '''Devuelve el estado resultante de aplicar una accion a un estado\n",
    "           determinado.'''\n",
    "        # el estado resultante tiene la canoa en el lado opuesto, y con las\n",
    "        # cantidades de misioneros y canibales actualizadas segun la cantidad\n",
    "        # que viajaron en la canoa\n",
    "        if s[2] == 0:\n",
    "            return (s[0] - a[1][0], s[1] - a[1][1], 1)\n",
    "        else:\n",
    "            return (s[0] + a[1][0], s[1] + a[1][1], 0)\n",
    "\n"
   ]
  }
 ],
 "metadata": {
  "kernelspec": {
   "display_name": "Python 3",
   "language": "python",
   "name": "python3"
  },
  "language_info": {
   "codemirror_mode": {
    "name": "ipython",
    "version": 3
   },
   "file_extension": ".py",
   "mimetype": "text/x-python",
   "name": "python",
   "nbconvert_exporter": "python",
   "pygments_lexer": "ipython3",
   "version": "3.7.3"
  }
 },
 "nbformat": 4,
 "nbformat_minor": 4
}

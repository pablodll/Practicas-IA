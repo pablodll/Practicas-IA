{
 "cells": [
  {
   "cell_type": "markdown",
   "metadata": {},
   "source": [
    "# Practica 2B (Ascensores)\n",
    "##### Alberto García Doménech - Pablo Daurell Marina (Grupo 03)"
   ]
  },
  {
   "cell_type": "code",
   "execution_count": 184,
   "metadata": {},
   "outputs": [],
   "source": [
    "# Restriccion: Una persona por ascensor\n",
    "# El último ascensor siempre es rápido (se  mueve por plantas pares)\n",
    "# estado_ini = ( (personas), (ascensores) )\n",
    "estado_ini = (\n",
    "    (2,4,2,8,1), (2,0,1)\n",
    ")\n",
    "\n",
    "# estado_goal = (personas)\n",
    "estado_goal = (3,11,12,1,9)\n",
    "\n",
    "# Acciones\n",
    "# Llamar ascensor persona (mueve un ascensor vacio a una planta)\n",
    "# Subir ascensor persona (sube una persona dentro de un ascensor una planta) (comprobar si ascensor y persona estan en misma planta)\n",
    "# Bajar ascensor persona (baja una persona dentro de un ascensor una planta) (comprobar si ascensor y persona estan en misma planta)"
   ]
  },
  {
   "cell_type": "code",
   "execution_count": 149,
   "metadata": {},
   "outputs": [],
   "source": [
    "from search import *\n",
    "\n",
    "class Ascensores(Problem):\n",
    "    \n",
    "    def __init__(self, initial, goal):\n",
    "        self.goal = goal\n",
    "        Problem.__init__(self, initial, goal)\n",
    "\n",
    "    def actions(self, estado):\n",
    "        personas = list(estado[0])\n",
    "        ascensores = list(estado[1])\n",
    "        accs = list()\n",
    "        for i, persona in enumerate(personas):\n",
    "            for j, ascensor in enumerate(ascensores):\n",
    "                if j == len(ascensores)-1: # ASCENSOR RAPIDO\n",
    "                    if persona != ascensor and persona%2 == 0:\n",
    "                        accs.append((\"LlamarRapido\", i, j)) # Persona i (en planta par) llama a ascensor rapido\n",
    "                    if persona == ascensor and int(persona) >0:\n",
    "                        accs.append((\"BajarRapido\" , i, j)) # Bajar persona i en asccensor rapido (j)\n",
    "                    if persona == ascensor and int(persona) < 12:\n",
    "                        accs.append((\"SubirRapido\", i, j)) # Subir persona i en ascensor rapido (j)\n",
    "                else: # ASCENSOR NORMAL\n",
    "                    if persona != ascensor:\n",
    "                        accs.append((\"Llamar\", i, j))            # Persona i llama a asccensor j\n",
    "                    if persona == ascensor and int(persona) > 0:\n",
    "                        accs.append((\"Bajar\", i, j))             # Bajar persona i en ascensor j\n",
    "                    if persona == ascensor and int(persona) < 12:\n",
    "                        accs.append((\"Subir\", i, j))             # Subir persona i en ascensor j\n",
    "            \n",
    "        return accs\n",
    "    \n",
    "    def result(self, estado, accion):\n",
    "        personas = list(estado[0])\n",
    "        ascensores = list(estado[1])\n",
    "        p = accion[1]\n",
    "        a = accion[2]\n",
    "        if accion[0] == \"Llamar\" or accion[0] == \"LlamarRapido\":\n",
    "            ascensores[a] = int(personas[p])\n",
    "        elif accion[0] == \"Bajar\":\n",
    "            ascensores[a] -= 1\n",
    "            personas[p] -= 1\n",
    "        elif accion[0] == \"Subir\":\n",
    "            ascensores[a] += 1\n",
    "            personas[p] += 1\n",
    "        elif accion[0] == \"BajarRapido\":\n",
    "            ascensores[a] -= 2\n",
    "            personas[p] -= 2\n",
    "        elif accion[0] == \"SubirRapido\":\n",
    "            ascensores[a] += 2\n",
    "            personas[p] += 2\n",
    "        return (tuple(personas), tuple(ascensores))\n",
    "    \n",
    "    def goal_test(self, estado):\n",
    "        return estado[0] == self.goal\n",
    "    \n",
    "    def coste_de_aplicar_accion(self, estado, accion):\n",
    "        personas = list(estado[0])\n",
    "        ascensores = list(estado[1])\n",
    "        p = accion[1]\n",
    "        a = accion[2]\n",
    "        if accion[0] == \"Llamar\":\n",
    "            coste = abs(personas[p] - ascensores[a])\n",
    "        elif accion[0] == \"Bajar\":\n",
    "            coste = 1\n",
    "        elif accion[0] == \"Subir\":\n",
    "            coste = 1\n",
    "        elif accion[0] == \"LlamarRapido\":\n",
    "            coste = abs(personas[p] - ascensores[a])/2\n",
    "        elif accion[0] == \"BajarRapido\":\n",
    "            coste = 1/2\n",
    "        elif accion[0] == \"SubirRapido\":\n",
    "            coste = 1/2\n",
    "        return coste\n"
   ]
  },
  {
   "cell_type": "code",
   "execution_count": 150,
   "metadata": {},
   "outputs": [
    {
     "data": {
      "text/plain": [
       "((2, 4, 2, 8, 1), (1, 0))"
      ]
     },
     "execution_count": 150,
     "metadata": {},
     "output_type": "execute_result"
    }
   ],
   "source": [
    "p = Ascensores(estado_ini, estado_goal)\n",
    "p.initial"
   ]
  },
  {
   "cell_type": "code",
   "execution_count": 151,
   "metadata": {},
   "outputs": [
    {
     "data": {
      "text/plain": [
       "(3, 11, 12, 1, 9)"
      ]
     },
     "execution_count": 151,
     "metadata": {},
     "output_type": "execute_result"
    }
   ],
   "source": [
    "p.goal"
   ]
  },
  {
   "cell_type": "code",
   "execution_count": 185,
   "metadata": {},
   "outputs": [
    {
     "data": {
      "text/plain": [
       "[('Llamar', 0, 0),\n",
       " ('Llamar', 0, 1),\n",
       " ('LlamarRapido', 0, 2),\n",
       " ('Llamar', 1, 0),\n",
       " ('Llamar', 1, 1),\n",
       " ('LlamarRapido', 1, 2),\n",
       " ('Llamar', 2, 0),\n",
       " ('Llamar', 2, 1),\n",
       " ('Llamar', 3, 0),\n",
       " ('Llamar', 3, 1),\n",
       " ('LlamarRapido', 3, 2),\n",
       " ('Llamar', 4, 0),\n",
       " ('Llamar', 4, 1)]"
      ]
     },
     "execution_count": 185,
     "metadata": {},
     "output_type": "execute_result"
    }
   ],
   "source": [
    "p.actions(p.initial)"
   ]
  },
  {
   "cell_type": "code",
   "execution_count": 153,
   "metadata": {},
   "outputs": [
    {
     "data": {
      "text/plain": [
       "((2, 4, 2, 8, 1), (2, 0))"
      ]
     },
     "execution_count": 153,
     "metadata": {},
     "output_type": "execute_result"
    }
   ],
   "source": [
    "p.result(p.initial, (\"Llamar\", 0, 0))"
   ]
  },
  {
   "cell_type": "code",
   "execution_count": 154,
   "metadata": {},
   "outputs": [
    {
     "data": {
      "text/plain": [
       "1.5"
      ]
     },
     "execution_count": 154,
     "metadata": {},
     "output_type": "execute_result"
    }
   ],
   "source": [
    "p.coste_de_aplicar_accion(p.initial, (\"LlamarRapido\", 1, 0))"
   ]
  },
  {
   "cell_type": "markdown",
   "metadata": {},
   "source": [
    "### Heurísticas"
   ]
  },
  {
   "cell_type": "code",
   "execution_count": 156,
   "metadata": {},
   "outputs": [],
   "source": [
    "# Numero de personas en una planta incorrecta a la de destino \n",
    "def wrong_pos(node):\n",
    "    res = 0\n",
    "    goal = estado_goal\n",
    "    for i in range(len(node.state[0])):\n",
    "        if goal[i] != node.state[0][i]:\n",
    "            res += 1\n",
    "    return res\n",
    "\n",
    "# Distancia de cada persona a su planta destino\n",
    "def p_distance(node):\n",
    "    state = node.state[0]\n",
    "    dist = 0\n",
    "    goal = estado_goal\n",
    "    for i in range(len(state)):\n",
    "        if goal[i] != state[i]:\n",
    "            dist += abs(state[i] - goal[i])\n",
    "    return dist\n",
    "\n",
    "# Distancia de cada persona a su planta destino (con ascensor rapido)\n",
    "def p_distance2(node):\n",
    "    state = node.state[0]\n",
    "    dist = 0\n",
    "    goal = estado_goal\n",
    "    for i in range(len(state)):\n",
    "        if goal[i] != state[i]:\n",
    "            if state[i]%2 == 0: # Planta par\n",
    "                if goal[i]%2 == 0: # Destino par\n",
    "                    dist += abs(state[i] - goal[i])/2\n",
    "                else: # Destino impar\n",
    "                    dist += (abs(state[i] - goal[i])/2)+1\n",
    "            else: # Planta impar\n",
    "                if(goal[i]>state[i]): # Si tienes que subir\n",
    "                    if goal[i]%2 == 0: # Destino par\n",
    "                        dist += (abs((state[i]+1) - goal[i])/2)+1\n",
    "                    else: # Destino impar\n",
    "                        dist += (abs((state[i]+1) - (goal[i]-1))/2) + 2\n",
    "                else: # Si tienes que bajar\n",
    "                    if goal[i]%2 == 0: # Destino par\n",
    "                        dist += (abs((state[i]-1)-goal[i])/2)+1\n",
    "                    else: # Destino impar\n",
    "                        dist += (abs((state[i]-1) - (goal[i]+1))/2) + 2\n",
    "    return dist"
   ]
  },
  {
   "cell_type": "markdown",
   "metadata": {},
   "source": [
    "### Búsqueda heurística"
   ]
  },
  {
   "cell_type": "code",
   "execution_count": 230,
   "metadata": {},
   "outputs": [],
   "source": [
    "from search import best_first_graph_search"
   ]
  },
  {
   "cell_type": "code",
   "execution_count": 303,
   "metadata": {},
   "outputs": [],
   "source": [
    "estado_ini = ((0,0),(0,0))\n",
    "estado_goal = (12,3)\n",
    "p = Ascensores(estado_ini, estado_goal)"
   ]
  },
  {
   "cell_type": "code",
   "execution_count": 336,
   "metadata": {},
   "outputs": [
    {
     "name": "stdout",
     "output_type": "stream",
     "text": [
      "2.12 ms ± 19 µs per loop (mean ± std. dev. of 7 runs, 100 loops each)\n"
     ]
    }
   ],
   "source": [
    "%%timeit\n",
    "astar_search(p, p_distance2).solution()"
   ]
  },
  {
   "cell_type": "code",
   "execution_count": 337,
   "metadata": {},
   "outputs": [
    {
     "name": "stdout",
     "output_type": "stream",
     "text": [
      "749 µs ± 4.27 µs per loop (mean ± std. dev. of 7 runs, 1000 loops each)\n"
     ]
    }
   ],
   "source": [
    "%%timeit\n",
    "astar_search(p, p_distance).solution()"
   ]
  },
  {
   "cell_type": "code",
   "execution_count": 338,
   "metadata": {},
   "outputs": [
    {
     "name": "stdout",
     "output_type": "stream",
     "text": [
      "886 µs ± 85.9 µs per loop (mean ± std. dev. of 7 runs, 1000 loops each)\n"
     ]
    }
   ],
   "source": [
    "%%timeit\n",
    "best_first_graph_search(p, p_distance2).solution"
   ]
  },
  {
   "cell_type": "code",
   "execution_count": 339,
   "metadata": {},
   "outputs": [
    {
     "name": "stdout",
     "output_type": "stream",
     "text": [
      "817 µs ± 101 µs per loop (mean ± std. dev. of 7 runs, 1000 loops each)\n"
     ]
    }
   ],
   "source": [
    "%%timeit\n",
    "best_first_graph_search(p, p_distance).solution"
   ]
  },
  {
   "cell_type": "code",
   "execution_count": 261,
   "metadata": {},
   "outputs": [],
   "source": [
    "estado_ini = ((2,4,1,8,1),(0,0))\n",
    "estado_goal = (0,0,0,0,0)\n",
    "p = Ascensores(estado_ini, estado_goal)"
   ]
  },
  {
   "cell_type": "code",
   "execution_count": 286,
   "metadata": {},
   "outputs": [
    {
     "name": "stdout",
     "output_type": "stream",
     "text": [
      "Wall time: 54.8 s\n"
     ]
    },
    {
     "data": {
      "text/plain": [
       "[('LlamarRapido', 3, 1),\n",
       " ('BajarRapido', 3, 1),\n",
       " ('BajarRapido', 3, 1),\n",
       " ('BajarRapido', 1, 1),\n",
       " ('BajarRapido', 0, 1),\n",
       " ('LlamarRapido', 3, 1),\n",
       " ('BajarRapido', 3, 1),\n",
       " ('BajarRapido', 1, 1),\n",
       " ('Llamar', 2, 0),\n",
       " ('Bajar', 2, 0),\n",
       " ('LlamarRapido', 3, 1),\n",
       " ('BajarRapido', 3, 1),\n",
       " ('Llamar', 4, 0),\n",
       " ('Bajar', 4, 0)]"
      ]
     },
     "execution_count": 286,
     "metadata": {},
     "output_type": "execute_result"
    }
   ],
   "source": [
    "%%time\n",
    "astar_search(p, p_distance2).solution()"
   ]
  },
  {
   "cell_type": "code",
   "execution_count": 285,
   "metadata": {},
   "outputs": [
    {
     "name": "stdout",
     "output_type": "stream",
     "text": [
      "Wall time: 10 ms\n"
     ]
    },
    {
     "data": {
      "text/plain": [
       "[('LlamarRapido', 0, 1),\n",
       " ('BajarRapido', 0, 1),\n",
       " ('LlamarRapido', 1, 1),\n",
       " ('BajarRapido', 1, 1),\n",
       " ('BajarRapido', 1, 1),\n",
       " ('LlamarRapido', 3, 1),\n",
       " ('BajarRapido', 3, 1),\n",
       " ('BajarRapido', 3, 1),\n",
       " ('BajarRapido', 3, 1),\n",
       " ('BajarRapido', 3, 1),\n",
       " ('Llamar', 2, 0),\n",
       " ('Bajar', 2, 0),\n",
       " ('Llamar', 4, 0),\n",
       " ('Bajar', 4, 0)]"
      ]
     },
     "execution_count": 285,
     "metadata": {},
     "output_type": "execute_result"
    }
   ],
   "source": [
    "%%time\n",
    "astar_search(p, p_distance).solution()"
   ]
  },
  {
   "cell_type": "code",
   "execution_count": 239,
   "metadata": {},
   "outputs": [],
   "source": [
    "estado_ini = ((2,4,1,8,1),(0,4,4,8,0))\n",
    "estado_goal = (3,11,12,1,9)\n",
    "p = Ascensores(estado_ini, estado_goal)"
   ]
  },
  {
   "cell_type": "code",
   "execution_count": 334,
   "metadata": {},
   "outputs": [
    {
     "name": "stdout",
     "output_type": "stream",
     "text": [
      "853 µs ± 43.7 µs per loop (mean ± std. dev. of 7 runs, 1000 loops each)\n"
     ]
    }
   ],
   "source": [
    "%%timeit\n",
    "best_first_graph_search(p, p_distance2).solution();"
   ]
  },
  {
   "cell_type": "code",
   "execution_count": 335,
   "metadata": {},
   "outputs": [
    {
     "name": "stdout",
     "output_type": "stream",
     "text": [
      "732 µs ± 64.8 µs per loop (mean ± std. dev. of 7 runs, 1000 loops each)\n"
     ]
    }
   ],
   "source": [
    "%%timeit\n",
    "best_first_graph_search(p, p_distance).solution();"
   ]
  },
  {
   "cell_type": "code",
   "execution_count": null,
   "metadata": {},
   "outputs": [],
   "source": []
  }
 ],
 "metadata": {
  "kernelspec": {
   "display_name": "Python 3",
   "language": "python",
   "name": "python3"
  },
  "language_info": {
   "codemirror_mode": {
    "name": "ipython",
    "version": 3
   },
   "file_extension": ".py",
   "mimetype": "text/x-python",
   "name": "python",
   "nbconvert_exporter": "python",
   "pygments_lexer": "ipython3",
   "version": "3.7.3"
  }
 },
 "nbformat": 4,
 "nbformat_minor": 4
}

{
 "cells": [
  {
   "cell_type": "markdown",
   "metadata": {},
   "source": [
    "# Practica 2B (Ascensores)\n",
    "##### Alberto García Doménech - Pablo Daurell Marina (Grupo 03)"
   ]
  },
  {
   "cell_type": "code",
   "execution_count": 2,
   "metadata": {},
   "outputs": [],
   "source": [
    "# Restriccion: Una persona por ascensor\n",
    "# El último ascensor siempre es rápido (se  mueve por plantas pares)\n",
    "# estado_ini = ( (personas), (ascensores) )\n",
    "estado_ini = (\n",
    "    (2,4,2,8,1), (2,0,1)\n",
    ")\n",
    "\n",
    "# estado_goal = (personas)\n",
    "estado_goal = (3,11,12,1,9)\n",
    "\n",
    "# Acciones\n",
    "# Llamar ascensor persona (mueve un ascensor vacio a una planta)\n",
    "# Subir ascensor persona (sube una persona dentro de un ascensor una planta) (comprobar si ascensor y persona estan en misma planta)\n",
    "# Bajar ascensor persona (baja una persona dentro de un ascensor una planta) (comprobar si ascensor y persona estan en misma planta)"
   ]
  },
  {
   "cell_type": "code",
   "execution_count": 3,
   "metadata": {},
   "outputs": [],
   "source": [
    "from search import *\n",
    "\n",
    "class Ascensores(Problem):\n",
    "    \n",
    "    def __init__(self, initial, goal):\n",
    "        self.goal = goal\n",
    "        Problem.__init__(self, initial, goal)\n",
    "\n",
    "    def actions(self, estado):\n",
    "        personas = list(estado[0])\n",
    "        ascensores = list(estado[1])\n",
    "        accs = list()\n",
    "        for i, persona in enumerate(personas):\n",
    "            for j, ascensor in enumerate(ascensores):\n",
    "                if j == len(ascensores)-1: # ASCENSOR RAPIDO\n",
    "                    if persona != ascensor and persona%2 == 0:\n",
    "                        accs.append((\"LlamarRapido\", i, j)) # Persona i (en planta par) llama a ascensor rapido\n",
    "                    if persona == ascensor and int(persona) >0:\n",
    "                        accs.append((\"BajarRapido\" , i, j)) # Bajar persona i en asccensor rapido (j)\n",
    "                    if persona == ascensor and int(persona) < 12:\n",
    "                        accs.append((\"SubirRapido\", i, j)) # Subir persona i en ascensor rapido (j)\n",
    "                else: # ASCENSOR NORMAL\n",
    "                    if persona != ascensor:\n",
    "                        accs.append((\"Llamar\", i, j))            # Persona i llama a asccensor j\n",
    "                    if persona == ascensor and int(persona) > 0:\n",
    "                        accs.append((\"Bajar\", i, j))             # Bajar persona i en ascensor j\n",
    "                    if persona == ascensor and int(persona) < 12:\n",
    "                        accs.append((\"Subir\", i, j))             # Subir persona i en ascensor j\n",
    "            \n",
    "        return accs\n",
    "    \n",
    "    def result(self, estado, accion):\n",
    "        personas = list(estado[0])\n",
    "        ascensores = list(estado[1])\n",
    "        p = accion[1]\n",
    "        a = accion[2]\n",
    "        if accion[0] == \"Llamar\" or accion[0] == \"LlamarRapido\":\n",
    "            ascensores[a] = int(personas[p])\n",
    "        elif accion[0] == \"Bajar\":\n",
    "            ascensores[a] -= 1\n",
    "            personas[p] -= 1\n",
    "        elif accion[0] == \"Subir\":\n",
    "            ascensores[a] += 1\n",
    "            personas[p] += 1\n",
    "        elif accion[0] == \"BajarRapido\":\n",
    "            ascensores[a] -= 2\n",
    "            personas[p] -= 2\n",
    "        elif accion[0] == \"SubirRapido\":\n",
    "            ascensores[a] += 2\n",
    "            personas[p] += 2\n",
    "        return (tuple(personas), tuple(ascensores))\n",
    "    \n",
    "    def goal_test(self, estado):\n",
    "        return estado[0] == self.goal\n",
    "    \n",
    "    def coste_de_aplicar_accion(self, estado, accion):\n",
    "        personas = list(estado[0])\n",
    "        ascensores = list(estado[1])\n",
    "        p = accion[1]\n",
    "        a = accion[2]\n",
    "        if accion[0] == \"Llamar\":\n",
    "            coste = abs(personas[p] - ascensores[a])\n",
    "        elif accion[0] == \"Bajar\":\n",
    "            coste = 1\n",
    "        elif accion[0] == \"Subir\":\n",
    "            coste = 1\n",
    "        elif accion[0] == \"LlamarRapido\":\n",
    "            coste = abs(personas[p] - ascensores[a])/2\n",
    "        elif accion[0] == \"BajarRapido\":\n",
    "            coste = 1/2\n",
    "        elif accion[0] == \"SubirRapido\":\n",
    "            coste = 1/2\n",
    "        return coste\n"
   ]
  },
  {
   "cell_type": "code",
   "execution_count": 4,
   "metadata": {},
   "outputs": [
    {
     "data": {
      "text/plain": [
       "((2, 4, 2, 8, 1), (2, 0, 1))"
      ]
     },
     "execution_count": 4,
     "metadata": {},
     "output_type": "execute_result"
    }
   ],
   "source": [
    "p = Ascensores(estado_ini, estado_goal)\n",
    "p.initial"
   ]
  },
  {
   "cell_type": "code",
   "execution_count": 5,
   "metadata": {},
   "outputs": [
    {
     "data": {
      "text/plain": [
       "(3, 11, 12, 1, 9)"
      ]
     },
     "execution_count": 5,
     "metadata": {},
     "output_type": "execute_result"
    }
   ],
   "source": [
    "p.goal"
   ]
  },
  {
   "cell_type": "code",
   "execution_count": 6,
   "metadata": {},
   "outputs": [
    {
     "data": {
      "text/plain": [
       "[('Bajar', 0, 0),\n",
       " ('Subir', 0, 0),\n",
       " ('Llamar', 0, 1),\n",
       " ('LlamarRapido', 0, 2),\n",
       " ('Llamar', 1, 0),\n",
       " ('Llamar', 1, 1),\n",
       " ('LlamarRapido', 1, 2),\n",
       " ('Bajar', 2, 0),\n",
       " ('Subir', 2, 0),\n",
       " ('Llamar', 2, 1),\n",
       " ('LlamarRapido', 2, 2),\n",
       " ('Llamar', 3, 0),\n",
       " ('Llamar', 3, 1),\n",
       " ('LlamarRapido', 3, 2),\n",
       " ('Llamar', 4, 0),\n",
       " ('Llamar', 4, 1),\n",
       " ('BajarRapido', 4, 2),\n",
       " ('SubirRapido', 4, 2)]"
      ]
     },
     "execution_count": 6,
     "metadata": {},
     "output_type": "execute_result"
    }
   ],
   "source": [
    "p.actions(p.initial)"
   ]
  },
  {
   "cell_type": "code",
   "execution_count": 7,
   "metadata": {},
   "outputs": [
    {
     "data": {
      "text/plain": [
       "((2, 4, 2, 8, 1), (2, 0, 1))"
      ]
     },
     "execution_count": 7,
     "metadata": {},
     "output_type": "execute_result"
    }
   ],
   "source": [
    "p.result(p.initial, (\"Llamar\", 0, 0))"
   ]
  },
  {
   "cell_type": "code",
   "execution_count": 8,
   "metadata": {},
   "outputs": [
    {
     "data": {
      "text/plain": [
       "1.0"
      ]
     },
     "execution_count": 8,
     "metadata": {},
     "output_type": "execute_result"
    }
   ],
   "source": [
    "p.coste_de_aplicar_accion(p.initial, (\"LlamarRapido\", 1, 0))"
   ]
  },
  {
   "cell_type": "markdown",
   "metadata": {},
   "source": [
    "### Heurísticas"
   ]
  },
  {
   "cell_type": "code",
   "execution_count": 9,
   "metadata": {},
   "outputs": [],
   "source": [
    "# Numero de personas en una planta incorrecta a la de destino \n",
    "def descolocados(node):\n",
    "    res = 0\n",
    "    goal = estado_goal\n",
    "    for i in range(len(node.state[0])):\n",
    "        if goal[i] != node.state[0][i]:\n",
    "            res += 1\n",
    "    return res\n",
    "\n",
    "# Distancia de cada persona a su planta destino\n",
    "def distancias(node):\n",
    "    state = node.state[0]\n",
    "    dist = 0\n",
    "    goal = estado_goal\n",
    "    for i in range(len(state)):\n",
    "        if goal[i] != state[i]:\n",
    "            dist += abs(state[i] - goal[i])\n",
    "    return dist\n",
    "\n",
    "# Distancia de cada persona a su planta destino (con ascensor rapido)\n",
    "def distancias2(node):\n",
    "    state = node.state[0]\n",
    "    dist = 0\n",
    "    goal = estado_goal\n",
    "    for i in range(len(state)):\n",
    "        if goal[i] != state[i]:\n",
    "            dist += abs(state[i] - goal[i])/2\n",
    "    return dist"
   ]
  },
  {
   "cell_type": "markdown",
   "metadata": {},
   "source": [
    "### Búsqueda heurística"
   ]
  },
  {
   "cell_type": "code",
   "execution_count": 10,
   "metadata": {},
   "outputs": [],
   "source": [
    "from search import best_first_graph_search"
   ]
  },
  {
   "cell_type": "markdown",
   "metadata": {},
   "source": [
    "##### Dos personas, plantas pares"
   ]
  },
  {
   "cell_type": "code",
   "execution_count": 11,
   "metadata": {},
   "outputs": [],
   "source": [
    "estado_ini = ((0,0),(0,0))\n",
    "estado_goal = (4,10)\n",
    "p = Ascensores(estado_ini, estado_goal)"
   ]
  },
  {
   "cell_type": "code",
   "execution_count": 25,
   "metadata": {},
   "outputs": [
    {
     "name": "stdout",
     "output_type": "stream",
     "text": [
      "Wall time: 32.9 ms\n"
     ]
    },
    {
     "data": {
      "text/plain": [
       "[('SubirRapido', 1, 1),\n",
       " ('SubirRapido', 1, 1),\n",
       " ('SubirRapido', 1, 1),\n",
       " ('SubirRapido', 1, 1),\n",
       " ('SubirRapido', 1, 1),\n",
       " ('LlamarRapido', 0, 1),\n",
       " ('SubirRapido', 0, 1),\n",
       " ('SubirRapido', 0, 1)]"
      ]
     },
     "execution_count": 25,
     "metadata": {},
     "output_type": "execute_result"
    }
   ],
   "source": [
    "%%time\n",
    "astar_search(p, distancias2).solution()"
   ]
  },
  {
   "cell_type": "code",
   "execution_count": 26,
   "metadata": {},
   "outputs": [
    {
     "name": "stdout",
     "output_type": "stream",
     "text": [
      "Wall time: 121 ms\n"
     ]
    },
    {
     "data": {
      "text/plain": [
       "[('SubirRapido', 1, 1),\n",
       " ('SubirRapido', 1, 1),\n",
       " ('SubirRapido', 1, 1),\n",
       " ('SubirRapido', 1, 1),\n",
       " ('SubirRapido', 1, 1),\n",
       " ('LlamarRapido', 0, 1),\n",
       " ('SubirRapido', 0, 1),\n",
       " ('SubirRapido', 0, 1)]"
      ]
     },
     "execution_count": 26,
     "metadata": {},
     "output_type": "execute_result"
    }
   ],
   "source": [
    "%%time\n",
    "astar_search(p, descolocados).solution()"
   ]
  },
  {
   "cell_type": "code",
   "execution_count": 29,
   "metadata": {},
   "outputs": [
    {
     "name": "stdout",
     "output_type": "stream",
     "text": [
      "Wall time: 2.96 ms\n"
     ]
    },
    {
     "data": {
      "text/plain": [
       "[('SubirRapido', 1, 1),\n",
       " ('SubirRapido', 1, 1),\n",
       " ('SubirRapido', 1, 1),\n",
       " ('SubirRapido', 1, 1),\n",
       " ('SubirRapido', 1, 1),\n",
       " ('Subir', 0, 0),\n",
       " ('Subir', 0, 0),\n",
       " ('Subir', 0, 0),\n",
       " ('Subir', 0, 0)]"
      ]
     },
     "execution_count": 29,
     "metadata": {},
     "output_type": "execute_result"
    }
   ],
   "source": [
    "%%time\n",
    "best_first_graph_search(p, distancias2).solution()"
   ]
  },
  {
   "cell_type": "code",
   "execution_count": 30,
   "metadata": {},
   "outputs": [
    {
     "name": "stdout",
     "output_type": "stream",
     "text": [
      "Wall time: 12 ms\n"
     ]
    },
    {
     "data": {
      "text/plain": [
       "[('SubirRapido', 1, 1),\n",
       " ('SubirRapido', 1, 1),\n",
       " ('SubirRapido', 1, 1),\n",
       " ('SubirRapido', 1, 1),\n",
       " ('SubirRapido', 1, 1),\n",
       " ('LlamarRapido', 0, 1),\n",
       " ('SubirRapido', 0, 1),\n",
       " ('SubirRapido', 0, 1)]"
      ]
     },
     "execution_count": 30,
     "metadata": {},
     "output_type": "execute_result"
    }
   ],
   "source": [
    "%%time\n",
    "best_first_graph_search(p, descolocados).solution()"
   ]
  },
  {
   "cell_type": "markdown",
   "metadata": {},
   "source": [
    "##### Dos personas, plantas impares"
   ]
  },
  {
   "cell_type": "code",
   "execution_count": 33,
   "metadata": {},
   "outputs": [],
   "source": [
    "estado_ini = ((1,3),(0,0))\n",
    "estado_goal = (7,5)\n",
    "p = Ascensores(estado_ini, estado_goal)"
   ]
  },
  {
   "cell_type": "code",
   "execution_count": 38,
   "metadata": {},
   "outputs": [
    {
     "name": "stdout",
     "output_type": "stream",
     "text": [
      "Wall time: 106 ms\n"
     ]
    },
    {
     "data": {
      "text/plain": [
       "[('Llamar', 0, 0),\n",
       " ('Subir', 0, 0),\n",
       " ('Subir', 0, 0),\n",
       " ('Subir', 0, 0),\n",
       " ('Subir', 0, 0),\n",
       " ('Subir', 0, 0),\n",
       " ('Subir', 0, 0),\n",
       " ('Llamar', 1, 0),\n",
       " ('Subir', 1, 0),\n",
       " ('Subir', 1, 0)]"
      ]
     },
     "execution_count": 38,
     "metadata": {},
     "output_type": "execute_result"
    }
   ],
   "source": [
    "%%time\n",
    "astar_search(p, distancias2).solution()"
   ]
  },
  {
   "cell_type": "code",
   "execution_count": 39,
   "metadata": {},
   "outputs": [
    {
     "name": "stdout",
     "output_type": "stream",
     "text": [
      "Wall time: 164 ms\n"
     ]
    },
    {
     "data": {
      "text/plain": [
       "[('Llamar', 0, 0),\n",
       " ('Subir', 0, 0),\n",
       " ('Subir', 0, 0),\n",
       " ('Subir', 0, 0),\n",
       " ('Subir', 0, 0),\n",
       " ('Subir', 0, 0),\n",
       " ('Subir', 0, 0),\n",
       " ('Llamar', 1, 0),\n",
       " ('Subir', 1, 0),\n",
       " ('Subir', 1, 0)]"
      ]
     },
     "execution_count": 39,
     "metadata": {},
     "output_type": "execute_result"
    }
   ],
   "source": [
    "%%time\n",
    "astar_search(p, descolocados).solution()"
   ]
  },
  {
   "cell_type": "code",
   "execution_count": 40,
   "metadata": {},
   "outputs": [
    {
     "name": "stdout",
     "output_type": "stream",
     "text": [
      "Wall time: 997 µs\n"
     ]
    },
    {
     "data": {
      "text/plain": [
       "[('Llamar', 0, 0),\n",
       " ('Subir', 0, 0),\n",
       " ('Subir', 0, 0),\n",
       " ('Subir', 1, 0),\n",
       " ('Subir', 1, 0),\n",
       " ('Llamar', 0, 0),\n",
       " ('Subir', 0, 0),\n",
       " ('Subir', 0, 0),\n",
       " ('Subir', 0, 0),\n",
       " ('Subir', 0, 0)]"
      ]
     },
     "execution_count": 40,
     "metadata": {},
     "output_type": "execute_result"
    }
   ],
   "source": [
    "%%time\n",
    "best_first_graph_search(p, distancias2).solution()"
   ]
  },
  {
   "cell_type": "code",
   "execution_count": 41,
   "metadata": {},
   "outputs": [
    {
     "name": "stdout",
     "output_type": "stream",
     "text": [
      "Wall time: 7.96 ms\n"
     ]
    },
    {
     "data": {
      "text/plain": [
       "[('Llamar', 0, 0),\n",
       " ('Bajar', 0, 0),\n",
       " ('Llamar', 1, 0),\n",
       " ('Subir', 1, 0),\n",
       " ('Subir', 1, 0),\n",
       " ('Llamar', 0, 0),\n",
       " ('Subir', 0, 0),\n",
       " ('Subir', 0, 0),\n",
       " ('Subir', 0, 0),\n",
       " ('Subir', 0, 0),\n",
       " ('Subir', 0, 0),\n",
       " ('Subir', 0, 0),\n",
       " ('Subir', 0, 0)]"
      ]
     },
     "execution_count": 41,
     "metadata": {},
     "output_type": "execute_result"
    }
   ],
   "source": [
    "%%time\n",
    "best_first_graph_search(p, descolocados).solution()"
   ]
  },
  {
   "cell_type": "markdown",
   "metadata": {},
   "source": [
    "##### Dos personas, plantas pares e impares"
   ]
  },
  {
   "cell_type": "code",
   "execution_count": 44,
   "metadata": {},
   "outputs": [],
   "source": [
    "estado_ini = ((2,4),(0,0))\n",
    "estado_goal = (7,1)\n",
    "p = Ascensores(estado_ini, estado_goal)"
   ]
  },
  {
   "cell_type": "code",
   "execution_count": 45,
   "metadata": {},
   "outputs": [
    {
     "name": "stdout",
     "output_type": "stream",
     "text": [
      "Wall time: 107 ms\n"
     ]
    },
    {
     "data": {
      "text/plain": [
       "[('LlamarRapido', 1, 1),\n",
       " ('BajarRapido', 1, 1),\n",
       " ('SubirRapido', 0, 1),\n",
       " ('SubirRapido', 0, 1),\n",
       " ('Llamar', 0, 0),\n",
       " ('Subir', 0, 0),\n",
       " ('Llamar', 1, 0),\n",
       " ('Bajar', 1, 0)]"
      ]
     },
     "execution_count": 45,
     "metadata": {},
     "output_type": "execute_result"
    }
   ],
   "source": [
    "%%time\n",
    "astar_search(p, distancias2).solution()"
   ]
  },
  {
   "cell_type": "code",
   "execution_count": 46,
   "metadata": {},
   "outputs": [
    {
     "name": "stdout",
     "output_type": "stream",
     "text": [
      "Wall time: 217 ms\n"
     ]
    },
    {
     "data": {
      "text/plain": [
       "[('LlamarRapido', 1, 1),\n",
       " ('BajarRapido', 1, 1),\n",
       " ('Llamar', 0, 0),\n",
       " ('Bajar', 1, 0),\n",
       " ('SubirRapido', 0, 1),\n",
       " ('SubirRapido', 0, 1),\n",
       " ('Llamar', 0, 0),\n",
       " ('Subir', 0, 0)]"
      ]
     },
     "execution_count": 46,
     "metadata": {},
     "output_type": "execute_result"
    }
   ],
   "source": [
    "%%time\n",
    "astar_search(p, descolocados).solution()"
   ]
  },
  {
   "cell_type": "code",
   "execution_count": 47,
   "metadata": {},
   "outputs": [
    {
     "name": "stdout",
     "output_type": "stream",
     "text": [
      "Wall time: 997 µs\n"
     ]
    },
    {
     "data": {
      "text/plain": [
       "[('LlamarRapido', 0, 1),\n",
       " ('SubirRapido', 0, 1),\n",
       " ('BajarRapido', 1, 1),\n",
       " ('BajarRapido', 1, 1),\n",
       " ('Subir', 1, 0),\n",
       " ('LlamarRapido', 0, 1),\n",
       " ('SubirRapido', 0, 1),\n",
       " ('Llamar', 0, 0),\n",
       " ('Subir', 0, 0)]"
      ]
     },
     "execution_count": 47,
     "metadata": {},
     "output_type": "execute_result"
    }
   ],
   "source": [
    "%%time\n",
    "best_first_graph_search(p, distancias2).solution()"
   ]
  },
  {
   "cell_type": "code",
   "execution_count": 48,
   "metadata": {},
   "outputs": [
    {
     "name": "stdout",
     "output_type": "stream",
     "text": [
      "Wall time: 5.01 ms\n"
     ]
    },
    {
     "data": {
      "text/plain": [
       "[('LlamarRapido', 0, 1),\n",
       " ('BajarRapido', 0, 1),\n",
       " ('LlamarRapido', 1, 1),\n",
       " ('BajarRapido', 1, 1),\n",
       " ('BajarRapido', 1, 1),\n",
       " ('Subir', 1, 0),\n",
       " ('Llamar', 0, 0),\n",
       " ('Subir', 0, 0),\n",
       " ('Subir', 0, 0),\n",
       " ('Subir', 0, 0),\n",
       " ('Subir', 0, 0),\n",
       " ('Subir', 0, 0),\n",
       " ('Subir', 0, 0),\n",
       " ('Subir', 0, 0)]"
      ]
     },
     "execution_count": 48,
     "metadata": {},
     "output_type": "execute_result"
    }
   ],
   "source": [
    "%%time\n",
    "best_first_graph_search(p, descolocados).solution()"
   ]
  },
  {
   "cell_type": "markdown",
   "metadata": {},
   "source": [
    "##### Tres personas"
   ]
  },
  {
   "cell_type": "code",
   "execution_count": 52,
   "metadata": {},
   "outputs": [],
   "source": [
    "estado_ini = ((2,4,1),(0,0))\n",
    "estado_goal = (10,1,8)\n",
    "p = Ascensores(estado_ini, estado_goal)"
   ]
  },
  {
   "cell_type": "code",
   "execution_count": 53,
   "metadata": {},
   "outputs": [
    {
     "name": "stdout",
     "output_type": "stream",
     "text": [
      "Wall time: 3.63 s\n"
     ]
    },
    {
     "data": {
      "text/plain": [
       "[('Llamar', 2, 0),\n",
       " ('Subir', 2, 0),\n",
       " ('LlamarRapido', 0, 1),\n",
       " ('SubirRapido', 2, 1),\n",
       " ('BajarRapido', 1, 1),\n",
       " ('SubirRapido', 0, 1),\n",
       " ('SubirRapido', 0, 1),\n",
       " ('SubirRapido', 0, 1),\n",
       " ('SubirRapido', 0, 1),\n",
       " ('LlamarRapido', 2, 1),\n",
       " ('SubirRapido', 2, 1),\n",
       " ('SubirRapido', 2, 1),\n",
       " ('Bajar', 1, 0)]"
      ]
     },
     "execution_count": 53,
     "metadata": {},
     "output_type": "execute_result"
    }
   ],
   "source": [
    "%%time\n",
    "astar_search(p, distancias2).solution()"
   ]
  },
  {
   "cell_type": "code",
   "execution_count": 55,
   "metadata": {},
   "outputs": [
    {
     "name": "stdout",
     "output_type": "stream",
     "text": [
      "Wall time: 2min 2s\n"
     ]
    },
    {
     "data": {
      "text/plain": [
       "[('LlamarRapido', 1, 1),\n",
       " ('BajarRapido', 1, 1),\n",
       " ('Llamar', 2, 0),\n",
       " ('Subir', 2, 0),\n",
       " ('Bajar', 1, 0),\n",
       " ('SubirRapido', 0, 1),\n",
       " ('SubirRapido', 0, 1),\n",
       " ('SubirRapido', 0, 1),\n",
       " ('SubirRapido', 0, 1),\n",
       " ('LlamarRapido', 2, 1),\n",
       " ('SubirRapido', 2, 1),\n",
       " ('SubirRapido', 2, 1),\n",
       " ('SubirRapido', 2, 1)]"
      ]
     },
     "execution_count": 55,
     "metadata": {},
     "output_type": "execute_result"
    }
   ],
   "source": [
    "%%time\n",
    "astar_search(p, descolocados).solution()"
   ]
  },
  {
   "cell_type": "code",
   "execution_count": 56,
   "metadata": {},
   "outputs": [
    {
     "name": "stdout",
     "output_type": "stream",
     "text": [
      "Wall time: 2.99 ms\n"
     ]
    },
    {
     "data": {
      "text/plain": [
       "[('LlamarRapido', 0, 1),\n",
       " ('SubirRapido', 0, 1),\n",
       " ('BajarRapido', 1, 1),\n",
       " ('BajarRapido', 1, 1),\n",
       " ('Subir', 1, 0),\n",
       " ('Subir', 2, 0),\n",
       " ('Subir', 2, 0),\n",
       " ('Subir', 2, 0),\n",
       " ('Subir', 2, 0),\n",
       " ('Subir', 2, 0),\n",
       " ('Subir', 2, 0),\n",
       " ('Subir', 2, 0),\n",
       " ('Llamar', 1, 0),\n",
       " ('LlamarRapido', 0, 1),\n",
       " ('SubirRapido', 0, 1),\n",
       " ('SubirRapido', 0, 1),\n",
       " ('SubirRapido', 0, 1)]"
      ]
     },
     "execution_count": 56,
     "metadata": {},
     "output_type": "execute_result"
    }
   ],
   "source": [
    "%%time\n",
    "best_first_graph_search(p, distancias2).solution()"
   ]
  },
  {
   "cell_type": "code",
   "execution_count": 58,
   "metadata": {},
   "outputs": [
    {
     "name": "stdout",
     "output_type": "stream",
     "text": [
      "Wall time: 117 ms\n"
     ]
    },
    {
     "data": {
      "text/plain": [
       "[('LlamarRapido', 0, 1),\n",
       " ('BajarRapido', 0, 1),\n",
       " ('LlamarRapido', 1, 1),\n",
       " ('BajarRapido', 1, 1),\n",
       " ('BajarRapido', 1, 1),\n",
       " ('Subir', 1, 0),\n",
       " ('Bajar', 2, 0),\n",
       " ('SubirRapido', 2, 1),\n",
       " ('SubirRapido', 2, 1),\n",
       " ('SubirRapido', 2, 1),\n",
       " ('SubirRapido', 2, 1),\n",
       " ('LlamarRapido', 0, 1),\n",
       " ('SubirRapido', 0, 1),\n",
       " ('SubirRapido', 0, 1),\n",
       " ('SubirRapido', 0, 1),\n",
       " ('SubirRapido', 0, 1),\n",
       " ('SubirRapido', 0, 1)]"
      ]
     },
     "execution_count": 58,
     "metadata": {},
     "output_type": "execute_result"
    }
   ],
   "source": [
    "%%time\n",
    "best_first_graph_search(p, descolocados).solution()"
   ]
  },
  {
   "cell_type": "markdown",
   "metadata": {},
   "source": [
    "##### Dos personas, tres ascensores"
   ]
  },
  {
   "cell_type": "code",
   "execution_count": 74,
   "metadata": {},
   "outputs": [],
   "source": [
    "estado_ini = ((2,4),(0,1,6))\n",
    "estado_goal = (10,1,8)\n",
    "p = Ascensores(estado_ini, estado_goal)"
   ]
  },
  {
   "cell_type": "code",
   "execution_count": 75,
   "metadata": {},
   "outputs": [
    {
     "ename": "KeyboardInterrupt",
     "evalue": "",
     "output_type": "error",
     "traceback": [
      "\u001b[1;31m---------------------------------------------------------------------------\u001b[0m",
      "\u001b[1;31mKeyboardInterrupt\u001b[0m                         Traceback (most recent call last)",
      "\u001b[1;32m<timed eval>\u001b[0m in \u001b[0;36m<module>\u001b[1;34m\u001b[0m\n",
      "\u001b[1;32mE:\\CAMPUS VIRTUAL\\3 (2019-2020)\\IA\\search.py\u001b[0m in \u001b[0;36mastar_search\u001b[1;34m(problem, h)\u001b[0m\n\u001b[0;32m    408\u001b[0m     else in your Problem subclass.\"\"\"\n\u001b[0;32m    409\u001b[0m     \u001b[0mh\u001b[0m \u001b[1;33m=\u001b[0m \u001b[0mmemoize\u001b[0m\u001b[1;33m(\u001b[0m\u001b[0mh\u001b[0m \u001b[1;32mor\u001b[0m \u001b[0mproblem\u001b[0m\u001b[1;33m.\u001b[0m\u001b[0mh\u001b[0m\u001b[1;33m,\u001b[0m \u001b[1;34m'h'\u001b[0m\u001b[1;33m)\u001b[0m\u001b[1;33m\u001b[0m\u001b[1;33m\u001b[0m\u001b[0m\n\u001b[1;32m--> 410\u001b[1;33m     \u001b[1;32mreturn\u001b[0m \u001b[0mbest_first_graph_search\u001b[0m\u001b[1;33m(\u001b[0m\u001b[0mproblem\u001b[0m\u001b[1;33m,\u001b[0m \u001b[1;32mlambda\u001b[0m \u001b[0mn\u001b[0m\u001b[1;33m:\u001b[0m \u001b[0mn\u001b[0m\u001b[1;33m.\u001b[0m\u001b[0mpath_cost\u001b[0m \u001b[1;33m+\u001b[0m \u001b[0mh\u001b[0m\u001b[1;33m(\u001b[0m\u001b[0mn\u001b[0m\u001b[1;33m)\u001b[0m\u001b[1;33m)\u001b[0m\u001b[1;33m\u001b[0m\u001b[1;33m\u001b[0m\u001b[0m\n\u001b[0m\u001b[0;32m    411\u001b[0m \u001b[1;33m\u001b[0m\u001b[0m\n\u001b[0;32m    412\u001b[0m \u001b[1;33m\u001b[0m\u001b[0m\n",
      "\u001b[1;32mE:\\CAMPUS VIRTUAL\\3 (2019-2020)\\IA\\search.py\u001b[0m in \u001b[0;36mbest_first_graph_search\u001b[1;34m(problem, f)\u001b[0m\n\u001b[0;32m    273\u001b[0m         \u001b[0mexplored\u001b[0m\u001b[1;33m.\u001b[0m\u001b[0madd\u001b[0m\u001b[1;33m(\u001b[0m\u001b[0mnode\u001b[0m\u001b[1;33m.\u001b[0m\u001b[0mstate\u001b[0m\u001b[1;33m)\u001b[0m\u001b[1;33m\u001b[0m\u001b[1;33m\u001b[0m\u001b[0m\n\u001b[0;32m    274\u001b[0m         \u001b[1;32mfor\u001b[0m \u001b[0mchild\u001b[0m \u001b[1;32min\u001b[0m \u001b[0mnode\u001b[0m\u001b[1;33m.\u001b[0m\u001b[0mexpand\u001b[0m\u001b[1;33m(\u001b[0m\u001b[0mproblem\u001b[0m\u001b[1;33m)\u001b[0m\u001b[1;33m:\u001b[0m\u001b[1;33m\u001b[0m\u001b[1;33m\u001b[0m\u001b[0m\n\u001b[1;32m--> 275\u001b[1;33m             \u001b[1;32mif\u001b[0m \u001b[0mchild\u001b[0m\u001b[1;33m.\u001b[0m\u001b[0mstate\u001b[0m \u001b[1;32mnot\u001b[0m \u001b[1;32min\u001b[0m \u001b[0mexplored\u001b[0m \u001b[1;32mand\u001b[0m \u001b[0mchild\u001b[0m \u001b[1;32mnot\u001b[0m \u001b[1;32min\u001b[0m \u001b[0mfrontier\u001b[0m\u001b[1;33m:\u001b[0m\u001b[1;33m\u001b[0m\u001b[1;33m\u001b[0m\u001b[0m\n\u001b[0m\u001b[0;32m    276\u001b[0m                 \u001b[0mfrontier\u001b[0m\u001b[1;33m.\u001b[0m\u001b[0mappend\u001b[0m\u001b[1;33m(\u001b[0m\u001b[0mchild\u001b[0m\u001b[1;33m)\u001b[0m\u001b[1;33m\u001b[0m\u001b[1;33m\u001b[0m\u001b[0m\n\u001b[0;32m    277\u001b[0m             \u001b[1;32melif\u001b[0m \u001b[0mchild\u001b[0m \u001b[1;32min\u001b[0m \u001b[0mfrontier\u001b[0m\u001b[1;33m:\u001b[0m\u001b[1;33m\u001b[0m\u001b[1;33m\u001b[0m\u001b[0m\n",
      "\u001b[1;32mE:\\CAMPUS VIRTUAL\\3 (2019-2020)\\IA\\utils.py\u001b[0m in \u001b[0;36m__contains__\u001b[1;34m(self, key)\u001b[0m\n\u001b[0;32m    905\u001b[0m     \u001b[1;32mdef\u001b[0m \u001b[0m__contains__\u001b[0m\u001b[1;33m(\u001b[0m\u001b[0mself\u001b[0m\u001b[1;33m,\u001b[0m \u001b[0mkey\u001b[0m\u001b[1;33m)\u001b[0m\u001b[1;33m:\u001b[0m\u001b[1;33m\u001b[0m\u001b[1;33m\u001b[0m\u001b[0m\n\u001b[0;32m    906\u001b[0m         \u001b[1;34m\"\"\"Return True if the key is in PriorityQueue.\"\"\"\u001b[0m\u001b[1;33m\u001b[0m\u001b[1;33m\u001b[0m\u001b[0m\n\u001b[1;32m--> 907\u001b[1;33m         \u001b[1;32mreturn\u001b[0m \u001b[0many\u001b[0m\u001b[1;33m(\u001b[0m\u001b[1;33m[\u001b[0m\u001b[0mitem\u001b[0m \u001b[1;33m==\u001b[0m \u001b[0mkey\u001b[0m \u001b[1;32mfor\u001b[0m \u001b[0m_\u001b[0m\u001b[1;33m,\u001b[0m \u001b[0mitem\u001b[0m \u001b[1;32min\u001b[0m \u001b[0mself\u001b[0m\u001b[1;33m.\u001b[0m\u001b[0mheap\u001b[0m\u001b[1;33m]\u001b[0m\u001b[1;33m)\u001b[0m\u001b[1;33m\u001b[0m\u001b[1;33m\u001b[0m\u001b[0m\n\u001b[0m\u001b[0;32m    908\u001b[0m \u001b[1;33m\u001b[0m\u001b[0m\n\u001b[0;32m    909\u001b[0m     \u001b[1;32mdef\u001b[0m \u001b[0m__getitem__\u001b[0m\u001b[1;33m(\u001b[0m\u001b[0mself\u001b[0m\u001b[1;33m,\u001b[0m \u001b[0mkey\u001b[0m\u001b[1;33m)\u001b[0m\u001b[1;33m:\u001b[0m\u001b[1;33m\u001b[0m\u001b[1;33m\u001b[0m\u001b[0m\n",
      "\u001b[1;32mE:\\CAMPUS VIRTUAL\\3 (2019-2020)\\IA\\utils.py\u001b[0m in \u001b[0;36m<listcomp>\u001b[1;34m(.0)\u001b[0m\n\u001b[0;32m    905\u001b[0m     \u001b[1;32mdef\u001b[0m \u001b[0m__contains__\u001b[0m\u001b[1;33m(\u001b[0m\u001b[0mself\u001b[0m\u001b[1;33m,\u001b[0m \u001b[0mkey\u001b[0m\u001b[1;33m)\u001b[0m\u001b[1;33m:\u001b[0m\u001b[1;33m\u001b[0m\u001b[1;33m\u001b[0m\u001b[0m\n\u001b[0;32m    906\u001b[0m         \u001b[1;34m\"\"\"Return True if the key is in PriorityQueue.\"\"\"\u001b[0m\u001b[1;33m\u001b[0m\u001b[1;33m\u001b[0m\u001b[0m\n\u001b[1;32m--> 907\u001b[1;33m         \u001b[1;32mreturn\u001b[0m \u001b[0many\u001b[0m\u001b[1;33m(\u001b[0m\u001b[1;33m[\u001b[0m\u001b[0mitem\u001b[0m \u001b[1;33m==\u001b[0m \u001b[0mkey\u001b[0m \u001b[1;32mfor\u001b[0m \u001b[0m_\u001b[0m\u001b[1;33m,\u001b[0m \u001b[0mitem\u001b[0m \u001b[1;32min\u001b[0m \u001b[0mself\u001b[0m\u001b[1;33m.\u001b[0m\u001b[0mheap\u001b[0m\u001b[1;33m]\u001b[0m\u001b[1;33m)\u001b[0m\u001b[1;33m\u001b[0m\u001b[1;33m\u001b[0m\u001b[0m\n\u001b[0m\u001b[0;32m    908\u001b[0m \u001b[1;33m\u001b[0m\u001b[0m\n\u001b[0;32m    909\u001b[0m     \u001b[1;32mdef\u001b[0m \u001b[0m__getitem__\u001b[0m\u001b[1;33m(\u001b[0m\u001b[0mself\u001b[0m\u001b[1;33m,\u001b[0m \u001b[0mkey\u001b[0m\u001b[1;33m)\u001b[0m\u001b[1;33m:\u001b[0m\u001b[1;33m\u001b[0m\u001b[1;33m\u001b[0m\u001b[0m\n",
      "\u001b[1;31mKeyboardInterrupt\u001b[0m: "
     ]
    }
   ],
   "source": [
    "%%time\n",
    "astar_search(p, distancias2).solution()"
   ]
  },
  {
   "cell_type": "code",
   "execution_count": null,
   "metadata": {},
   "outputs": [],
   "source": [
    "%%time\n",
    "astar_search(p, descolocados).solution()"
   ]
  },
  {
   "cell_type": "code",
   "execution_count": null,
   "metadata": {},
   "outputs": [],
   "source": []
  },
  {
   "cell_type": "code",
   "execution_count": null,
   "metadata": {},
   "outputs": [],
   "source": []
  },
  {
   "cell_type": "markdown",
   "metadata": {},
   "source": [
    "##### Cinco personas, dos ascensores"
   ]
  },
  {
   "cell_type": "code",
   "execution_count": 65,
   "metadata": {},
   "outputs": [],
   "source": [
    "estado_ini = ((2,4,1,8,1),(0,0))\n",
    "estado_goal = (3,11,12,1,9)\n",
    "p = Ascensores(estado_ini, estado_goal)"
   ]
  },
  {
   "cell_type": "code",
   "execution_count": 66,
   "metadata": {},
   "outputs": [
    {
     "name": "stdout",
     "output_type": "stream",
     "text": [
      "Wall time: 60.8 ms\n"
     ]
    },
    {
     "data": {
      "text/plain": [
       "[('LlamarRapido', 1, 1),\n",
       " ('SubirRapido', 1, 1),\n",
       " ('SubirRapido', 1, 1),\n",
       " ('BajarRapido', 3, 1),\n",
       " ('BajarRapido', 3, 1),\n",
       " ('BajarRapido', 3, 1),\n",
       " ('BajarRapido', 3, 1),\n",
       " ('Subir', 3, 0),\n",
       " ('Subir', 4, 0),\n",
       " ('Subir', 4, 0),\n",
       " ('Subir', 4, 0),\n",
       " ('Subir', 4, 0),\n",
       " ('Subir', 4, 0),\n",
       " ('Subir', 4, 0),\n",
       " ('Subir', 4, 0),\n",
       " ('Subir', 4, 0),\n",
       " ('Llamar', 2, 0),\n",
       " ('Subir', 2, 0),\n",
       " ('Subir', 2, 0),\n",
       " ('Subir', 2, 0),\n",
       " ('Subir', 2, 0),\n",
       " ('Subir', 2, 0),\n",
       " ('Subir', 2, 0),\n",
       " ('Subir', 2, 0),\n",
       " ('Subir', 2, 0),\n",
       " ('Subir', 2, 0),\n",
       " ('Subir', 2, 0),\n",
       " ('Subir', 2, 0),\n",
       " ('Llamar', 3, 0),\n",
       " ('LlamarRapido', 1, 1),\n",
       " ('SubirRapido', 1, 1),\n",
       " ('LlamarRapido', 0, 1),\n",
       " ('Llamar', 0, 0),\n",
       " ('Subir', 0, 0),\n",
       " ('Llamar', 1, 0),\n",
       " ('Subir', 1, 0)]"
      ]
     },
     "execution_count": 66,
     "metadata": {},
     "output_type": "execute_result"
    }
   ],
   "source": [
    "%%time\n",
    "best_first_graph_search(p, distancias2).solution();"
   ]
  },
  {
   "cell_type": "code",
   "execution_count": 67,
   "metadata": {},
   "outputs": [
    {
     "name": "stdout",
     "output_type": "stream",
     "text": [
      "Wall time: 2.19 s\n"
     ]
    },
    {
     "data": {
      "text/plain": [
       "[('LlamarRapido', 0, 1),\n",
       " ('BajarRapido', 0, 1),\n",
       " ('LlamarRapido', 1, 1),\n",
       " ('BajarRapido', 1, 1),\n",
       " ('BajarRapido', 1, 1),\n",
       " ('LlamarRapido', 3, 1),\n",
       " ('BajarRapido', 3, 1),\n",
       " ('BajarRapido', 3, 1),\n",
       " ('BajarRapido', 3, 1),\n",
       " ('BajarRapido', 3, 1),\n",
       " ('Subir', 3, 0),\n",
       " ('Bajar', 2, 0),\n",
       " ('Llamar', 3, 0),\n",
       " ('Subir', 4, 0),\n",
       " ('Subir', 4, 0),\n",
       " ('Subir', 4, 0),\n",
       " ('Subir', 4, 0),\n",
       " ('Subir', 4, 0),\n",
       " ('Subir', 4, 0),\n",
       " ('Subir', 4, 0),\n",
       " ('Subir', 4, 0),\n",
       " ('Llamar', 0, 0),\n",
       " ('SubirRapido', 2, 1),\n",
       " ('SubirRapido', 2, 1),\n",
       " ('SubirRapido', 2, 1),\n",
       " ('SubirRapido', 2, 1),\n",
       " ('SubirRapido', 2, 1),\n",
       " ('SubirRapido', 2, 1),\n",
       " ('LlamarRapido', 0, 1),\n",
       " ('Subir', 1, 0),\n",
       " ('Subir', 1, 0),\n",
       " ('Subir', 1, 0),\n",
       " ('Subir', 1, 0),\n",
       " ('Subir', 1, 0),\n",
       " ('Subir', 1, 0),\n",
       " ('Subir', 1, 0),\n",
       " ('Subir', 1, 0),\n",
       " ('Subir', 1, 0),\n",
       " ('Subir', 1, 0),\n",
       " ('Subir', 1, 0),\n",
       " ('Llamar', 0, 0),\n",
       " ('Subir', 0, 0),\n",
       " ('Subir', 0, 0),\n",
       " ('Subir', 0, 0)]"
      ]
     },
     "execution_count": 67,
     "metadata": {},
     "output_type": "execute_result"
    }
   ],
   "source": [
    "%%time\n",
    "best_first_graph_search(p, descolocados).solution();"
   ]
  },
  {
   "cell_type": "markdown",
   "metadata": {},
   "source": [
    "##### Cinco personas, cinco ascensores"
   ]
  },
  {
   "cell_type": "code",
   "execution_count": 68,
   "metadata": {},
   "outputs": [],
   "source": [
    "estado_ini = ((2,4,1,8,1),(0,4,4,8,0))\n",
    "estado_goal = (3,11,12,1,9)\n",
    "p = Ascensores(estado_ini, estado_goal)"
   ]
  },
  {
   "cell_type": "code",
   "execution_count": 69,
   "metadata": {},
   "outputs": [
    {
     "name": "stdout",
     "output_type": "stream",
     "text": [
      "Wall time: 232 ms\n"
     ]
    },
    {
     "data": {
      "text/plain": [
       "[('Bajar', 3, 3),\n",
       " ('Bajar', 3, 3),\n",
       " ('Bajar', 3, 3),\n",
       " ('Bajar', 3, 3),\n",
       " ('Bajar', 3, 1),\n",
       " ('Bajar', 3, 1),\n",
       " ('Bajar', 3, 1),\n",
       " ('Subir', 4, 1),\n",
       " ('Subir', 4, 1),\n",
       " ('Subir', 4, 1),\n",
       " ('Subir', 4, 3),\n",
       " ('Subir', 4, 3),\n",
       " ('Subir', 4, 3),\n",
       " ('Subir', 4, 3),\n",
       " ('Subir', 4, 3),\n",
       " ('Subir', 1, 2),\n",
       " ('Subir', 1, 2),\n",
       " ('Subir', 1, 2),\n",
       " ('Subir', 1, 2),\n",
       " ('Subir', 1, 2),\n",
       " ('Subir', 1, 3),\n",
       " ('Subir', 1, 3),\n",
       " ('Llamar', 2, 1),\n",
       " ('Subir', 2, 1),\n",
       " ('Subir', 2, 1),\n",
       " ('Subir', 2, 1),\n",
       " ('Subir', 2, 1),\n",
       " ('Subir', 2, 1),\n",
       " ('Subir', 2, 1),\n",
       " ('Subir', 2, 1),\n",
       " ('Subir', 2, 1),\n",
       " ('Subir', 2, 2),\n",
       " ('Subir', 2, 2),\n",
       " ('Subir', 2, 3),\n",
       " ('Llamar', 3, 1),\n",
       " ('Llamar', 3, 2),\n",
       " ('Llamar', 0, 3),\n",
       " ('Subir', 0, 3)]"
      ]
     },
     "execution_count": 69,
     "metadata": {},
     "output_type": "execute_result"
    }
   ],
   "source": [
    "%%time\n",
    "best_first_graph_search(p, distancias2).solution();"
   ]
  },
  {
   "cell_type": "code",
   "execution_count": null,
   "metadata": {},
   "outputs": [],
   "source": []
  }
 ],
 "metadata": {
  "kernelspec": {
   "display_name": "Python 3",
   "language": "python",
   "name": "python3"
  },
  "language_info": {
   "codemirror_mode": {
    "name": "ipython",
    "version": 3
   },
   "file_extension": ".py",
   "mimetype": "text/x-python",
   "name": "python",
   "nbconvert_exporter": "python",
   "pygments_lexer": "ipython3",
   "version": "3.7.3"
  }
 },
 "nbformat": 4,
 "nbformat_minor": 4
}

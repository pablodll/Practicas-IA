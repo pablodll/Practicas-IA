{
 "cells": [
  {
   "cell_type": "code",
   "execution_count": 21,
   "metadata": {},
   "outputs": [],
   "source": [
    "# Restriccion: Una persona por ascensor\n",
    "# estado_ini = ( (personas), (ascensores) )\n",
    "estado_ini = (\n",
    "    (1,5), (0,1)\n",
    ")\n",
    "\n",
    "# estado_goal = (personas)\n",
    "estado_goal = (5,5)\n",
    "\n",
    "# Acciones\n",
    "# Llamar ascensor persona (mueve un ascensor vacio a una planta)\n",
    "# Subir ascensor persona (sube una persona dentro de un ascensor una planta) (comprobar si ascensor y persona estan en misma planta)\n",
    "# Bajar ascensor persona (baja una persona dentro de un ascensor una planta) (comprobar si ascensor y persona estan en misma planta)"
   ]
  },
  {
   "cell_type": "code",
   "execution_count": 34,
   "metadata": {},
   "outputs": [],
   "source": [
    "# importamos las cosas que vamos a usar de aima\n",
    "from search import *\n",
    "\n",
    "class Ascensores(Problem):\n",
    "    ''' Clase problema (formalizacion de nuestro problema) siguiendo la\n",
    "        estructura que aima espera que tengan los problemas.'''\n",
    "    def __init__(self, initial, goal):\n",
    "        '''Inicializacion de nuestro problema.'''\n",
    "        self.goal = goal\n",
    "        Problem.__init__(self, initial, goal)\n",
    "\n",
    "    def actions(self, estado):\n",
    "        personas = list(estado[0])\n",
    "        ascensores = list(estado[1])\n",
    "        accs = list()\n",
    "        for i, persona in enumerate(personas):\n",
    "            for j, ascensor in enumerate(ascensores):\n",
    "                if persona != ascensor:\n",
    "                    accs.append((\"Llamar\", i, j))            # Persona i llama a asccensor j\n",
    "                if persona == ascensor and int(persona) > 0:\n",
    "                    accs.append((\"Bajar\", i, j))             # Bajar persona i en ascensor j\n",
    "                if persona == ascensor and int(persona) < 12:\n",
    "                    accs.append((\"Subir\", i, j))             # Subir persona i en ascensor j\n",
    "        return accs\n",
    "    \n",
    "    def result(self, estado, accion):\n",
    "        personas = list(estado[0])\n",
    "        ascensores = list(estado[1])\n",
    "        p = accion[1]\n",
    "        a = accion[2]\n",
    "        \n",
    "        if accion[0] == \"Llamar\":\n",
    "            ascensores[a] = int(personas[p])\n",
    "        elif accion[0] == \"Bajar\":\n",
    "            ascensores[a] -= 1\n",
    "            personas[p] -= 1\n",
    "        elif accion[0] == \"Subir\":\n",
    "            ascensores[a] += 1\n",
    "            personas[p] += 1\n",
    "            \n",
    "        return (tuple(personas), tuple(ascensores))\n",
    "    \n",
    "    def goal_test(self, estado):\n",
    "        return estado[0] == self.goal\n",
    "    \n",
    "    def coste_de_aplicar_accion(self, estado, accion):\n",
    "        personas = list(estado[0])\n",
    "        ascensores = list(estado[1])\n",
    "        p = accion[1]\n",
    "        a = accion[2]\n",
    "        \n",
    "        if accion[0] == \"Llamar\":\n",
    "            coste = abs(personas[p] - ascensores[a])\n",
    "        elif accion[0] == \"Bajar\":\n",
    "            coste = 1\n",
    "        elif accion[0] == \"Subir\":\n",
    "            coste = 1\n",
    "            \n",
    "        return coste\n"
   ]
  },
  {
   "cell_type": "code",
   "execution_count": 35,
   "metadata": {},
   "outputs": [
    {
     "data": {
      "text/plain": [
       "((1, 5), (0, 1))"
      ]
     },
     "execution_count": 35,
     "metadata": {},
     "output_type": "execute_result"
    }
   ],
   "source": [
    "p = Ascensores(estado_ini, estado_goal)\n",
    "p.initial"
   ]
  },
  {
   "cell_type": "code",
   "execution_count": 36,
   "metadata": {},
   "outputs": [
    {
     "data": {
      "text/plain": [
       "(5, 5)"
      ]
     },
     "execution_count": 36,
     "metadata": {},
     "output_type": "execute_result"
    }
   ],
   "source": [
    "p.goal"
   ]
  },
  {
   "cell_type": "code",
   "execution_count": 37,
   "metadata": {},
   "outputs": [
    {
     "data": {
      "text/plain": [
       "[('Llamar', 0, 0),\n",
       " ('Bajar', 0, 1),\n",
       " ('Subir', 0, 1),\n",
       " ('Llamar', 1, 0),\n",
       " ('Llamar', 1, 1)]"
      ]
     },
     "execution_count": 37,
     "metadata": {},
     "output_type": "execute_result"
    }
   ],
   "source": [
    "p.actions(p.initial)"
   ]
  },
  {
   "cell_type": "code",
   "execution_count": 38,
   "metadata": {},
   "outputs": [
    {
     "data": {
      "text/plain": [
       "((1, 5), (1, 1))"
      ]
     },
     "execution_count": 38,
     "metadata": {},
     "output_type": "execute_result"
    }
   ],
   "source": [
    "p.result(p.initial, (\"Llamar\", 0, 0))"
   ]
  },
  {
   "cell_type": "code",
   "execution_count": 39,
   "metadata": {},
   "outputs": [
    {
     "data": {
      "text/plain": [
       "5"
      ]
     },
     "execution_count": 39,
     "metadata": {},
     "output_type": "execute_result"
    }
   ],
   "source": [
    "p.coste_de_aplicar_accion(p.initial, (\"Llamar\", 1, 0))"
   ]
  },
  {
   "cell_type": "code",
   "execution_count": 40,
   "metadata": {},
   "outputs": [],
   "source": [
    "from search import *\n",
    "from search import breadth_first_tree_search, depth_first_tree_search, depth_first_graph_search, breadth_first_graph_search"
   ]
  },
  {
   "cell_type": "code",
   "execution_count": 41,
   "metadata": {},
   "outputs": [
    {
     "data": {
      "text/plain": [
       "[('Subir', 0, 1), ('Subir', 0, 1), ('Subir', 0, 1), ('Subir', 0, 1)]"
      ]
     },
     "execution_count": 41,
     "metadata": {},
     "output_type": "execute_result"
    }
   ],
   "source": [
    "breadth_first_graph_search(p).solution()"
   ]
  },
  {
   "cell_type": "code",
   "execution_count": 175,
   "metadata": {},
   "outputs": [],
   "source": [
    "# Numero de personas en una planta incorrecta a la de destino \n",
    "def linear(node):\n",
    "    res = 0\n",
    "    goal = estado_goal\n",
    "    for i in range(len(node.state[0])):\n",
    "        if goal[i] != node.state[0][i]:\n",
    "            res += 1\n",
    "    return res\n",
    "\n",
    "# Distancia de cada persona a su planta destino\n",
    "def p_distance(node):\n",
    "    state = node.state[0]\n",
    "    dist = 0\n",
    "    goal = estado_goal\n",
    "    for i in range(len(state)):\n",
    "        if goal[i] != state[i]:\n",
    "            dist += abs(state[i] - goal[i])\n",
    "    return dist"
   ]
  },
  {
   "cell_type": "code",
   "execution_count": 176,
   "metadata": {},
   "outputs": [
    {
     "data": {
      "text/plain": [
       "[('Subir', 1, 0),\n",
       " ('Subir', 1, 0),\n",
       " ('Llamar', 1, 2),\n",
       " ('Bajar', 1, 2),\n",
       " ('Bajar', 1, 2),\n",
       " ('Bajar', 1, 2),\n",
       " ('Bajar', 1, 2),\n",
       " ('Bajar', 1, 2),\n",
       " ('Bajar', 1, 2),\n",
       " ('Bajar', 1, 2),\n",
       " ('Bajar', 1, 2),\n",
       " ('Bajar', 1, 2),\n",
       " ('Subir', 1, 0),\n",
       " ('Subir', 1, 0)]"
      ]
     },
     "execution_count": 176,
     "metadata": {},
     "output_type": "execute_result"
    }
   ],
   "source": [
    "astar_search(p, p_distance).solution()"
   ]
  },
  {
   "cell_type": "code",
   "execution_count": null,
   "metadata": {},
   "outputs": [],
   "source": []
  }
 ],
 "metadata": {
  "kernelspec": {
   "display_name": "Python 3",
   "language": "python",
   "name": "python3"
  },
  "language_info": {
   "codemirror_mode": {
    "name": "ipython",
    "version": 3
   },
   "file_extension": ".py",
   "mimetype": "text/x-python",
   "name": "python",
   "nbconvert_exporter": "python",
   "pygments_lexer": "ipython3",
   "version": "3.7.3"
  }
 },
 "nbformat": 4,
 "nbformat_minor": 4
}

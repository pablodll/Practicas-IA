{
 "cells": [
  {
   "cell_type": "code",
   "execution_count": null,
   "metadata": {},
   "outputs": [],
   "source": [
    "# (planta, [personas], [ascensores])\n",
    "# ascensores_lentos = 0,1,2,3  ascensor_rapido = 4\n",
    "estado_ini = {\n",
    "    (0, [], [0,4])\n",
    "    (1, [2,4], []),\n",
    "    (2, [0], []),\n",
    "    (3, [], []),\n",
    "    (4, [1], [1,2]),\n",
    "    (5, [], []),\n",
    "    (6, [], []),\n",
    "    (7, [], []),\n",
    "    (8, [3], [3]),\n",
    "    (9, [], []),\n",
    "    (10, [], []),\n",
    "    (11, [], []),\n",
    "    (12, [], [])\n",
    "}\n",
    "\n",
    "estado_fin = {}\n",
    "    (0, [], [])\n",
    "    (1, [3], []),\n",
    "    (2, [], []),\n",
    "    (3, [0], []),\n",
    "    (4, [], []),\n",
    "    (5, [], []),\n",
    "    (6, [], []),\n",
    "    (7, [], []),\n",
    "    (8, [], []),\n",
    "    (9, [4], []),\n",
    "    (10, [], []),\n",
    "    (11, [1], []),\n",
    "    (12, [2], [])\n",
    "}\n",
    "\n",
    "'''self._actions = [('a',(0,0)), ('a',(0,1)), ('a',(0,2)), ('a',(0,3)), ('a',(0,4)),\n",
    "                         ('a',(1,4)), ('a',(1,5)), ('a',(1,6)), ('a',(1,7)), ('a',(1,8)),\n",
    "                         ('a',(2,4)), ('a',(2,5)), ('a',(2,6)), ('a',(2,7)), ('a',(2,8)),\n",
    "                         ('a',(3,8)), ('a',(3,9)), ('a',(3,10)), ('a',(3,11)), ('a',(3,12)),\n",
    "                         ('a',(4,0)), ('a',(4,2)), ('a',(4,4)), ('a',(4,6)), ('a',(4,8)), ('a',(4,10)), ('a',(4,12)),\n",
    "                         ('p',(0,0)), ('p',(0,1)), ('p',(0,2)), ('p',(0,3)), ('p',(0,4)),\n",
    "                         ('p',(1,0)), ('p',(1,1)), ('p',(1,2)), ('p',(1,3)), ('p',(1,4)),\n",
    "                         ('p',(2,0)), ('p',(2,1)), ('p',(2,2)), ('p',(2,3)), ('p',(2,4)),\n",
    "                         ('p',(3,0)), ('p',(3,1)), ('p',(3,2)), ('p',(3,3)), ('p',(3,4)),\n",
    "                         ('p',(4,0)), ('p',(4,1)), ('p',(4,2)), ('p',(4,3)), ('p',(4,4)),\n",
    "                        ]'''\n",
    "'''self._actions = [('a',(0,0)), ('a',(0,1)), ('a',(0,2)), ('a',(0,3)), ('a',(0,4)),\n",
    "                         ('a',(1,4)), ('a',(1,5)), ('a',(1,6)), ('a',(1,7)), ('a',(1,8)),\n",
    "                         ('a',(3,8)), ('a',(3,9)), ('a',(3,10)), ('a',(3,11)), ('a',(3,12)),\n",
    "                         ('a',(4,0)), ('a',(4,2)), ('a',(4,4)), ('a',(4,6)), ('a',(4,8)), ('a',(4,10)), ('a',(4,12)),\n",
    "                         ('p',(0,0)), ('p',(0,1)), ('p',(0,2)), ('p',(0,3)), ('p',(0,4)),\n",
    "                         ('p',(1,0)), ('p',(1,1)), ('p',(1,2)), ('p',(1,3)), ('p',(1,4)),\n",
    "                         ('p',(2,0)), ('p',(2,1)), ('p',(2,2)), ('p',(2,3)), ('p',(2,4)),\n",
    "                        ]'''"
   ]
  },
  {
   "cell_type": "code",
   "execution_count": 6,
   "metadata": {},
   "outputs": [],
   "source": [
    "# 1 persona, 1 ascensor\n",
    "# estado_ini\n",
    "personas_ini = (2)\n",
    "ascensores_ini = (0)\n",
    "\n",
    "# estado_fin\n",
    "personas_goal = (10)\n",
    "ascensores_goal = ()\n",
    "\n",
    "# Acciones\n",
    "# Llamar ascensor (mueve un ascensor vacio a una planta)\n",
    "# Subir persona (sube una persona dentro de un ascensor a una planta) (comprobar si ascensor y persona estan en misma planta)\n",
    "# Bajar persona (baja una persona dentro de un ascensor a una planta) (comprobar si ascensor y persona estan en misma planta)"
   ]
  },
  {
   "cell_type": "code",
   "execution_count": 170,
   "metadata": {},
   "outputs": [],
   "source": [
    "# importamos las cosas que vamos a usar de aima\n",
    "from search import *\n",
    "\n",
    "class Ascensores(Problem):\n",
    "    ''' Clase problema (formalizacion de nuestro problema) siguiendo la\n",
    "        estructura que aima espera que tengan los problemas.'''\n",
    "    def __init__(self, initial, goal):\n",
    "        '''Inicializacion de nuestro problema.'''\n",
    "        self.goal = goal\n",
    "        Problem.__init__(self, initial, goal)\n",
    "\n",
    "    def actions(self, estado):\n",
    "        p = list(estado[0])\n",
    "        a = list(estado[1])\n",
    "        accs = list()\n",
    "        if p[0] != a[0]:\n",
    "            accs.append((\"Llamar \",str(p[0])));\n",
    "        if p[0] == a[0]:\n",
    "            accs.append((\"Bajar\", str(a[0]-1)))\n",
    "            accs.append((\"Subir\", str(a[0]+1)))\n",
    "        return accs\n",
    "    \n",
    "    def result(self, estado, accion):\n",
    "        p = list(estado[0])\n",
    "        a = list(estado[1])\n",
    "        if accion[0] == \"Llamar\":\n",
    "            a[0] = accion[1]\n",
    "        elif accion[0] == \"Bajar\":\n",
    "            a[0] = accion[1]\n",
    "            p[0] = accion[1]\n",
    "        elif accion[0] == \"Subir\":\n",
    "            a[0] = accion[1]\n",
    "            p[0] = accion[1]\n",
    "        return (p,a)\n"
   ]
  },
  {
   "cell_type": "code",
   "execution_count": 182,
   "metadata": {},
   "outputs": [
    {
     "data": {
      "text/plain": [
       "[('Llamar ', '2')]"
      ]
     },
     "execution_count": 182,
     "metadata": {},
     "output_type": "execute_result"
    }
   ],
   "source": [
    "p = Ascensores(([2],[0]),(10))\n",
    "p.actions(p.initial)"
   ]
  },
  {
   "cell_type": "code",
   "execution_count": 183,
   "metadata": {},
   "outputs": [
    {
     "data": {
      "text/plain": [
       "([2], [1])"
      ]
     },
     "execution_count": 183,
     "metadata": {},
     "output_type": "execute_result"
    }
   ],
   "source": [
    "p.result(p.initial, (\"Llamar\",1))"
   ]
  },
  {
   "cell_type": "code",
   "execution_count": 173,
   "metadata": {},
   "outputs": [
    {
     "data": {
      "text/plain": [
       "10"
      ]
     },
     "execution_count": 173,
     "metadata": {},
     "output_type": "execute_result"
    }
   ],
   "source": [
    "p.goal"
   ]
  },
  {
   "cell_type": "code",
   "execution_count": 174,
   "metadata": {},
   "outputs": [
    {
     "data": {
      "text/plain": [
       "([2], [2])"
      ]
     },
     "execution_count": 174,
     "metadata": {},
     "output_type": "execute_result"
    }
   ],
   "source": [
    "p.initial"
   ]
  },
  {
   "cell_type": "code",
   "execution_count": 175,
   "metadata": {},
   "outputs": [],
   "source": [
    "from search import *\n",
    "from search import breadth_first_tree_search, depth_first_tree_search, depth_first_graph_search, breadth_first_graph_search"
   ]
  },
  {
   "cell_type": "code",
   "execution_count": 176,
   "metadata": {},
   "outputs": [
    {
     "ename": "TypeError",
     "evalue": "unsupported operand type(s) for -: 'str' and 'int'",
     "output_type": "error",
     "traceback": [
      "\u001b[1;31m---------------------------------------------------------------------------\u001b[0m",
      "\u001b[1;31mTypeError\u001b[0m                                 Traceback (most recent call last)",
      "\u001b[1;32m<ipython-input-176-acbe98b40cfa>\u001b[0m in \u001b[0;36m<module>\u001b[1;34m\u001b[0m\n\u001b[0;32m      1\u001b[0m \u001b[0mp\u001b[0m \u001b[1;33m=\u001b[0m \u001b[0mAscensores\u001b[0m\u001b[1;33m(\u001b[0m\u001b[1;33m(\u001b[0m\u001b[1;33m[\u001b[0m\u001b[1;36m2\u001b[0m\u001b[1;33m]\u001b[0m\u001b[1;33m,\u001b[0m\u001b[1;33m[\u001b[0m\u001b[1;36m2\u001b[0m\u001b[1;33m]\u001b[0m\u001b[1;33m)\u001b[0m\u001b[1;33m,\u001b[0m\u001b[1;33m(\u001b[0m\u001b[1;36m10\u001b[0m\u001b[1;33m)\u001b[0m\u001b[1;33m)\u001b[0m\u001b[1;33m\u001b[0m\u001b[1;33m\u001b[0m\u001b[0m\n\u001b[1;32m----> 2\u001b[1;33m \u001b[0mbreadth_first_tree_search\u001b[0m\u001b[1;33m(\u001b[0m\u001b[0mp\u001b[0m\u001b[1;33m)\u001b[0m\u001b[1;33m.\u001b[0m\u001b[0msolution\u001b[0m\u001b[1;33m(\u001b[0m\u001b[1;33m)\u001b[0m\u001b[1;33m\u001b[0m\u001b[1;33m\u001b[0m\u001b[0m\n\u001b[0m",
      "\u001b[1;32mE:\\CAMPUS VIRTUAL\\3º (2019-2020)\\IA\\search.py\u001b[0m in \u001b[0;36mbreadth_first_tree_search\u001b[1;34m(problem)\u001b[0m\n\u001b[0;32m    193\u001b[0m         \u001b[1;32mif\u001b[0m \u001b[0mproblem\u001b[0m\u001b[1;33m.\u001b[0m\u001b[0mgoal_test\u001b[0m\u001b[1;33m(\u001b[0m\u001b[0mnode\u001b[0m\u001b[1;33m.\u001b[0m\u001b[0mstate\u001b[0m\u001b[1;33m)\u001b[0m\u001b[1;33m:\u001b[0m\u001b[1;33m\u001b[0m\u001b[1;33m\u001b[0m\u001b[0m\n\u001b[0;32m    194\u001b[0m             \u001b[1;32mreturn\u001b[0m \u001b[0mnode\u001b[0m\u001b[1;33m\u001b[0m\u001b[1;33m\u001b[0m\u001b[0m\n\u001b[1;32m--> 195\u001b[1;33m         \u001b[0mfrontier\u001b[0m\u001b[1;33m.\u001b[0m\u001b[0mextend\u001b[0m\u001b[1;33m(\u001b[0m\u001b[0mnode\u001b[0m\u001b[1;33m.\u001b[0m\u001b[0mexpand\u001b[0m\u001b[1;33m(\u001b[0m\u001b[0mproblem\u001b[0m\u001b[1;33m)\u001b[0m\u001b[1;33m)\u001b[0m\u001b[1;33m\u001b[0m\u001b[1;33m\u001b[0m\u001b[0m\n\u001b[0m\u001b[0;32m    196\u001b[0m     \u001b[1;32mreturn\u001b[0m \u001b[1;32mNone\u001b[0m\u001b[1;33m\u001b[0m\u001b[1;33m\u001b[0m\u001b[0m\n\u001b[0;32m    197\u001b[0m \u001b[1;33m\u001b[0m\u001b[0m\n",
      "\u001b[1;32mE:\\CAMPUS VIRTUAL\\3º (2019-2020)\\IA\\search.py\u001b[0m in \u001b[0;36mexpand\u001b[1;34m(self, problem)\u001b[0m\n\u001b[0;32m    105\u001b[0m         \u001b[1;34m\"\"\"List the nodes reachable in one step from this node.\"\"\"\u001b[0m\u001b[1;33m\u001b[0m\u001b[1;33m\u001b[0m\u001b[0m\n\u001b[0;32m    106\u001b[0m         return [self.child_node(problem, action)\n\u001b[1;32m--> 107\u001b[1;33m                 for action in problem.actions(self.state)]\n\u001b[0m\u001b[0;32m    108\u001b[0m \u001b[1;33m\u001b[0m\u001b[0m\n\u001b[0;32m    109\u001b[0m     \u001b[1;32mdef\u001b[0m \u001b[0mchild_node\u001b[0m\u001b[1;33m(\u001b[0m\u001b[0mself\u001b[0m\u001b[1;33m,\u001b[0m \u001b[0mproblem\u001b[0m\u001b[1;33m,\u001b[0m \u001b[0maction\u001b[0m\u001b[1;33m)\u001b[0m\u001b[1;33m:\u001b[0m\u001b[1;33m\u001b[0m\u001b[1;33m\u001b[0m\u001b[0m\n",
      "\u001b[1;32m<ipython-input-170-dfe0c7708021>\u001b[0m in \u001b[0;36mactions\u001b[1;34m(self, estado)\u001b[0m\n\u001b[0;32m     17\u001b[0m             \u001b[0maccs\u001b[0m\u001b[1;33m.\u001b[0m\u001b[0mappend\u001b[0m\u001b[1;33m(\u001b[0m\u001b[1;33m(\u001b[0m\u001b[1;34m\"Llamar \"\u001b[0m\u001b[1;33m,\u001b[0m\u001b[0mstr\u001b[0m\u001b[1;33m(\u001b[0m\u001b[0mp\u001b[0m\u001b[1;33m[\u001b[0m\u001b[1;36m0\u001b[0m\u001b[1;33m]\u001b[0m\u001b[1;33m)\u001b[0m\u001b[1;33m)\u001b[0m\u001b[1;33m)\u001b[0m\u001b[1;33m;\u001b[0m\u001b[1;33m\u001b[0m\u001b[1;33m\u001b[0m\u001b[0m\n\u001b[0;32m     18\u001b[0m         \u001b[1;32mif\u001b[0m \u001b[0mp\u001b[0m\u001b[1;33m[\u001b[0m\u001b[1;36m0\u001b[0m\u001b[1;33m]\u001b[0m \u001b[1;33m==\u001b[0m \u001b[0ma\u001b[0m\u001b[1;33m[\u001b[0m\u001b[1;36m0\u001b[0m\u001b[1;33m]\u001b[0m\u001b[1;33m:\u001b[0m\u001b[1;33m\u001b[0m\u001b[1;33m\u001b[0m\u001b[0m\n\u001b[1;32m---> 19\u001b[1;33m             \u001b[0maccs\u001b[0m\u001b[1;33m.\u001b[0m\u001b[0mappend\u001b[0m\u001b[1;33m(\u001b[0m\u001b[1;33m(\u001b[0m\u001b[1;34m\"Bajar\"\u001b[0m\u001b[1;33m,\u001b[0m \u001b[0mstr\u001b[0m\u001b[1;33m(\u001b[0m\u001b[0ma\u001b[0m\u001b[1;33m[\u001b[0m\u001b[1;36m0\u001b[0m\u001b[1;33m]\u001b[0m\u001b[1;33m-\u001b[0m\u001b[1;36m1\u001b[0m\u001b[1;33m)\u001b[0m\u001b[1;33m)\u001b[0m\u001b[1;33m)\u001b[0m\u001b[1;33m\u001b[0m\u001b[1;33m\u001b[0m\u001b[0m\n\u001b[0m\u001b[0;32m     20\u001b[0m             \u001b[0maccs\u001b[0m\u001b[1;33m.\u001b[0m\u001b[0mappend\u001b[0m\u001b[1;33m(\u001b[0m\u001b[1;33m(\u001b[0m\u001b[1;34m\"Subir\"\u001b[0m\u001b[1;33m,\u001b[0m \u001b[0mstr\u001b[0m\u001b[1;33m(\u001b[0m\u001b[0ma\u001b[0m\u001b[1;33m[\u001b[0m\u001b[1;36m0\u001b[0m\u001b[1;33m]\u001b[0m\u001b[1;33m+\u001b[0m\u001b[1;36m1\u001b[0m\u001b[1;33m)\u001b[0m\u001b[1;33m)\u001b[0m\u001b[1;33m)\u001b[0m\u001b[1;33m\u001b[0m\u001b[1;33m\u001b[0m\u001b[0m\n\u001b[0;32m     21\u001b[0m         \u001b[1;32mreturn\u001b[0m \u001b[0maccs\u001b[0m\u001b[1;33m\u001b[0m\u001b[1;33m\u001b[0m\u001b[0m\n",
      "\u001b[1;31mTypeError\u001b[0m: unsupported operand type(s) for -: 'str' and 'int'"
     ]
    }
   ],
   "source": [
    "p = Ascensores(([2],[2]),(10))\n",
    "breadth_first_tree_search(p).solution()"
   ]
  },
  {
   "cell_type": "code",
   "execution_count": null,
   "metadata": {},
   "outputs": [],
   "source": []
  }
 ],
 "metadata": {
  "kernelspec": {
   "display_name": "Python 3",
   "language": "python",
   "name": "python3"
  },
  "language_info": {
   "codemirror_mode": {
    "name": "ipython",
    "version": 3
   },
   "file_extension": ".py",
   "mimetype": "text/x-python",
   "name": "python",
   "nbconvert_exporter": "python",
   "pygments_lexer": "ipython3",
   "version": "3.7.3"
  }
 },
 "nbformat": 4,
 "nbformat_minor": 4
}

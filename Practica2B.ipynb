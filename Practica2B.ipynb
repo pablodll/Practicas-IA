{
 "cells": [
  {
   "cell_type": "code",
   "execution_count": 40,
   "metadata": {},
   "outputs": [],
   "source": [
    "# estado_ini = ( (personas), (ascensores) )\n",
    "estado_ini = (\n",
    "    (1,4,3), (1, 2)\n",
    ")\n",
    "\n",
    "# estado_goal = (personas)\n",
    "estado_goal = (3,2,2)\n",
    "\n",
    "# Acciones\n",
    "# Llamar ascensor (mueve un ascensor vacio a una planta)\n",
    "# Subir persona (sube una persona dentro de un ascensor una planta) (comprobar si ascensor y persona estan en misma planta)\n",
    "# Bajar persona (baja una persona dentro de un ascensor una planta) (comprobar si ascensor y persona estan en misma planta)"
   ]
  },
  {
   "cell_type": "code",
   "execution_count": 41,
   "metadata": {},
   "outputs": [],
   "source": [
    "# importamos las cosas que vamos a usar de aima\n",
    "from search import *\n",
    "\n",
    "class Ascensores(Problem):\n",
    "    ''' Clase problema (formalizacion de nuestro problema) siguiendo la\n",
    "        estructura que aima espera que tengan los problemas.'''\n",
    "    def __init__(self, initial, goal):\n",
    "        '''Inicializacion de nuestro problema.'''\n",
    "        self.goal = goal\n",
    "        Problem.__init__(self, initial, goal)\n",
    "\n",
    "    def actions(self, estado):\n",
    "        personas = list(estado[0])\n",
    "        ascensores = list(estado[1])\n",
    "        accs = list()\n",
    "        for i, persona in enumerate(personas):\n",
    "            for j, ascensor in enumerate(ascensores):\n",
    "                if persona != ascensor:\n",
    "                    accs.append((\"Llamar\", j, i))            # Persona i llama a asccensor j\n",
    "                if persona == ascensor and int(persona) > 0:\n",
    "                    accs.append((\"Bajar\", j, i))             # Bajar ascensor j con persona i\n",
    "                if persona == ascensor and int(persona) < 12:\n",
    "                    accs.append((\"Subir\", j, i))             # Subir ascensor j con persona i\n",
    "        return accs\n",
    "    \n",
    "    def result(self, estado, accion):\n",
    "        personas = list(estado[0])\n",
    "        ascensores = list(estado[1])\n",
    "        a = accion[1]\n",
    "        p = accion[2]\n",
    "        \n",
    "        if accion[0] == \"Llamar\":\n",
    "            ascensores[a] = int(personas[p])\n",
    "        elif accion[0] == \"Bajar\":\n",
    "            ascensores[a] -= 1\n",
    "            personas[p] -= 1\n",
    "        elif accion[0] == \"Subir\":\n",
    "            ascensores[a] += 1\n",
    "            personas[p] += 1\n",
    "            \n",
    "        return (tuple(personas), tuple(ascensores))\n",
    "    \n",
    "    def goal_test(self, estado):\n",
    "        return estado[0] == self.goal\n"
   ]
  },
  {
   "cell_type": "code",
   "execution_count": 42,
   "metadata": {},
   "outputs": [
    {
     "data": {
      "text/plain": [
       "((1, 4, 3), (1, 2))"
      ]
     },
     "execution_count": 42,
     "metadata": {},
     "output_type": "execute_result"
    }
   ],
   "source": [
    "p = Ascensores(estado_ini, estado_goal)\n",
    "p.initial"
   ]
  },
  {
   "cell_type": "code",
   "execution_count": 43,
   "metadata": {},
   "outputs": [
    {
     "data": {
      "text/plain": [
       "[('Bajar', 0, 0),\n",
       " ('Subir', 0, 0),\n",
       " ('Llamar', 1, 0),\n",
       " ('Llamar', 0, 1),\n",
       " ('Llamar', 1, 1),\n",
       " ('Llamar', 0, 2),\n",
       " ('Llamar', 1, 2)]"
      ]
     },
     "execution_count": 43,
     "metadata": {},
     "output_type": "execute_result"
    }
   ],
   "source": [
    "p.actions(p.initial)"
   ]
  },
  {
   "cell_type": "code",
   "execution_count": 44,
   "metadata": {},
   "outputs": [
    {
     "data": {
      "text/plain": [
       "((2, 4, 3), (2, 2))"
      ]
     },
     "execution_count": 44,
     "metadata": {},
     "output_type": "execute_result"
    }
   ],
   "source": [
    "p.result(p.initial, (\"Subir\", 0, 0))"
   ]
  },
  {
   "cell_type": "code",
   "execution_count": 45,
   "metadata": {},
   "outputs": [
    {
     "data": {
      "text/plain": [
       "(3, 2, 2)"
      ]
     },
     "execution_count": 45,
     "metadata": {},
     "output_type": "execute_result"
    }
   ],
   "source": [
    "p.goal"
   ]
  },
  {
   "cell_type": "code",
   "execution_count": 46,
   "metadata": {},
   "outputs": [],
   "source": [
    "from search import *\n",
    "from search import breadth_first_tree_search, depth_first_tree_search, depth_first_graph_search, breadth_first_graph_search"
   ]
  },
  {
   "cell_type": "code",
   "execution_count": 47,
   "metadata": {},
   "outputs": [
    {
     "data": {
      "text/plain": [
       "[('Subir', 0, 0),\n",
       " ('Subir', 0, 0),\n",
       " ('Llamar', 1, 1),\n",
       " ('Bajar', 1, 1),\n",
       " ('Bajar', 0, 1),\n",
       " ('Bajar', 1, 2)]"
      ]
     },
     "execution_count": 47,
     "metadata": {},
     "output_type": "execute_result"
    }
   ],
   "source": [
    "breadth_first_graph_search(p).solution()"
   ]
  },
  {
   "cell_type": "code",
   "execution_count": null,
   "metadata": {},
   "outputs": [],
   "source": []
  }
 ],
 "metadata": {
  "kernelspec": {
   "display_name": "Python 3",
   "language": "python",
   "name": "python3"
  },
  "language_info": {
   "codemirror_mode": {
    "name": "ipython",
    "version": 3
   },
   "file_extension": ".py",
   "mimetype": "text/x-python",
   "name": "python",
   "nbconvert_exporter": "python",
   "pygments_lexer": "ipython3",
   "version": "3.7.3"
  }
 },
 "nbformat": 4,
 "nbformat_minor": 4
}

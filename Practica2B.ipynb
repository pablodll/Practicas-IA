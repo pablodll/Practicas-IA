{
 "cells": [
  {
   "cell_type": "code",
   "execution_count": 9,
   "metadata": {},
   "outputs": [],
   "source": [
    "# 1 persona, 1 ascensor\n",
    "# estado_ini = (num_personas, persona0,..., personaN, ascensores...)\n",
    "estado_ini = (\n",
    "    (1,), (0,)\n",
    ")#(1, 3, 3)\n",
    "\n",
    "# estado_goal\n",
    "estado_goal = (\n",
    "    (3,), (3,)\n",
    ")#(1, 2, 2)\n",
    "\n",
    "# Acciones\n",
    "# Llamar ascensor (mueve un ascensor vacio a una planta)\n",
    "# Subir persona (sube una persona dentro de un ascensor a una planta) (comprobar si ascensor y persona estan en misma planta)\n",
    "# Bajar persona (baja una persona dentro de un ascensor a una planta) (comprobar si ascensor y persona estan en misma planta)"
   ]
  },
  {
   "cell_type": "code",
   "execution_count": 10,
   "metadata": {},
   "outputs": [],
   "source": [
    "# importamos las cosas que vamos a usar de aima\n",
    "from search import *\n",
    "\n",
    "class Ascensores(Problem):\n",
    "    ''' Clase problema (formalizacion de nuestro problema) siguiendo la\n",
    "        estructura que aima espera que tengan los problemas.'''\n",
    "    def __init__(self, initial, goal):\n",
    "        '''Inicializacion de nuestro problema.'''\n",
    "        self.goal = goal\n",
    "        Problem.__init__(self, initial, goal)\n",
    "\n",
    "    def actions(self, estado):\n",
    "        #p = estado_ini[1:estado_ini[0]+1]\n",
    "        #a = estado_ini[estado_ini[0] + 1:]\n",
    "        p = list(estado[0])\n",
    "        a = list(estado[1])\n",
    "        accs = list()\n",
    "        if p[0] != a[0]:\n",
    "            accs.append((\"Llamar\", str(p[0])));\n",
    "        if p[0] == a[0] and int(p[0]) > 0:\n",
    "            accs.append((\"Bajar\", str(int(a[0])-1)))\n",
    "        if p[0] == a[0] and int(p[0]) < 12:\n",
    "            accs.append((\"Subir\", str(int(a[0])+1)))\n",
    "        return accs\n",
    "    \n",
    "    def result(self, estado, accion):\n",
    "        #p = list(estado_ini[1:estado_ini[0]+1])\n",
    "        #a = list(estado_ini[estado_ini[0] + 1:])\n",
    "        p = list(estado[0])\n",
    "        a = list(estado[1])\n",
    "        if accion[0] == \"Llamar\":\n",
    "            a[0] = int(accion[1])\n",
    "        elif accion[0] == \"Bajar\":\n",
    "            a[0] = int(accion[1])\n",
    "            p[0] = int(accion[1])\n",
    "        elif accion[0] == \"Subir\":\n",
    "            a[0] = int(accion[1])\n",
    "            p[0] = int(accion[1])\n",
    "        #res = (p + a)\n",
    "        #res.insert(0, len(p))\n",
    "        return (tuple(p), tuple(a))\n"
   ]
  },
  {
   "cell_type": "code",
   "execution_count": 11,
   "metadata": {},
   "outputs": [
    {
     "data": {
      "text/plain": [
       "((1,), (0,))"
      ]
     },
     "execution_count": 11,
     "metadata": {},
     "output_type": "execute_result"
    }
   ],
   "source": [
    "p = Ascensores(estado_ini, estado_goal)\n",
    "p.initial"
   ]
  },
  {
   "cell_type": "code",
   "execution_count": 12,
   "metadata": {},
   "outputs": [
    {
     "data": {
      "text/plain": [
       "[('Llamar', '1')]"
      ]
     },
     "execution_count": 12,
     "metadata": {},
     "output_type": "execute_result"
    }
   ],
   "source": [
    "p.actions(p.initial)"
   ]
  },
  {
   "cell_type": "code",
   "execution_count": 13,
   "metadata": {},
   "outputs": [
    {
     "data": {
      "text/plain": [
       "((1,), (1,))"
      ]
     },
     "execution_count": 13,
     "metadata": {},
     "output_type": "execute_result"
    }
   ],
   "source": [
    "p.result(p.initial, (\"Llamar\", 1))"
   ]
  },
  {
   "cell_type": "code",
   "execution_count": 6,
   "metadata": {},
   "outputs": [
    {
     "data": {
      "text/plain": [
       "((3,), (3,))"
      ]
     },
     "execution_count": 6,
     "metadata": {},
     "output_type": "execute_result"
    }
   ],
   "source": [
    "p.goal"
   ]
  },
  {
   "cell_type": "code",
   "execution_count": 7,
   "metadata": {},
   "outputs": [],
   "source": [
    "from search import *\n",
    "from search import breadth_first_tree_search, depth_first_tree_search, depth_first_graph_search, breadth_first_graph_search"
   ]
  },
  {
   "cell_type": "code",
   "execution_count": 8,
   "metadata": {},
   "outputs": [
    {
     "data": {
      "text/plain": [
       "[('Llamar', '1'), ('Subir', '2'), ('Subir', '3')]"
      ]
     },
     "execution_count": 8,
     "metadata": {},
     "output_type": "execute_result"
    }
   ],
   "source": [
    "breadth_first_graph_search(p).solution()"
   ]
  },
  {
   "cell_type": "code",
   "execution_count": null,
   "metadata": {},
   "outputs": [],
   "source": []
  }
 ],
 "metadata": {
  "kernelspec": {
   "display_name": "Python 3",
   "language": "python",
   "name": "python3"
  },
  "language_info": {
   "codemirror_mode": {
    "name": "ipython",
    "version": 3
   },
   "file_extension": ".py",
   "mimetype": "text/x-python",
   "name": "python",
   "nbconvert_exporter": "python",
   "pygments_lexer": "ipython3",
   "version": "3.7.3"
  }
 },
 "nbformat": 4,
 "nbformat_minor": 4
}
